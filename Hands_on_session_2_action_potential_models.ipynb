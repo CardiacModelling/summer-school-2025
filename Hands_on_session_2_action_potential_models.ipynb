{
  "nbformat": 4,
  "nbformat_minor": 0,
  "metadata": {
    "colab": {
      "provenance": [],
      "include_colab_link": true
    },
    "kernelspec": {
      "name": "python3",
      "display_name": "Python 3"
    },
    "language_info": {
      "name": "python"
    }
  },
  "cells": [
    {
      "cell_type": "markdown",
      "metadata": {
        "id": "view-in-github",
        "colab_type": "text"
      },
      "source": [
        "<a href=\"https://colab.research.google.com/github/CardiacModelling/summer-school-2025/blob/main/Hands_on_session_2_action_potential_models.ipynb\" target=\"_parent\"><img src=\"https://colab.research.google.com/assets/colab-badge.svg\" alt=\"Open In Colab\"/></a>"
      ]
    },
    {
      "cell_type": "markdown",
      "source": [
        "# Hands-on session 2: action potential models\n",
        "\n",
        "* Downloading a CellML and loading into myokit\n",
        "* Set up steady pacing experiment\n",
        "* Change the frequency\n",
        "* Have a look at APs, plot the now shorter/longer ones\n",
        "* Calculate APDs\n",
        "* Stick in a loop to draw a steady-state restitution curve.\n",
        "* Apply simulated drug block or mutation by scaling a conductance and seeing how things change.\n",
        "* Nice to show EAD or something happening, to link to arrhythmic whole-cell ideas (but let others do that)."
      ],
      "metadata": {
        "id": "hLR62R94cJVv"
      }
    },
    {
      "cell_type": "markdown",
      "source": [
        "## Run this first:"
      ],
      "metadata": {
        "id": "Qh7xavds2YP8"
      }
    },
    {
      "cell_type": "code",
      "execution_count": 2,
      "metadata": {
        "id": "z4UWRR3HWa1a"
      },
      "outputs": [],
      "source": [
        "# Don't show the installation logs\n",
        "%%capture\n",
        "# If installation fails, comment out the line above and run again!\n",
        "\n",
        "# Install Myokit and Sundials\n",
        "!apt-get install libsundials-dev\n",
        "!pip install myokit\n",
        "\n",
        "# Disable debug messages annoyingly shown on colab\n",
        "import logging\n",
        "logging.disable(logging.INFO)\n",
        "\n",
        "# Import Myokit and matplotlib\n",
        "import myokit\n",
        "import matplotlib"
      ]
    },
    {
      "cell_type": "markdown",
      "source": [
        "## Downloading a CellML and loading into myokit\n"
      ],
      "metadata": {
        "id": "lMpge4Ea2w84"
      }
    },
    {
      "cell_type": "markdown",
      "source": [
        "## Set up steady pacing experiment"
      ],
      "metadata": {
        "id": "EAg-cd122w_P"
      }
    },
    {
      "cell_type": "markdown",
      "source": [
        "## Change the frequency"
      ],
      "metadata": {
        "id": "AQh4nbRs2xCC"
      }
    },
    {
      "cell_type": "markdown",
      "source": [
        "## Have a look at APs, plot the now shorter/longer ones"
      ],
      "metadata": {
        "id": "63GZkoB12xEw"
      }
    },
    {
      "cell_type": "markdown",
      "source": [
        "## Calculate APDs\n"
      ],
      "metadata": {
        "id": "-H4AJnGV2xJf"
      }
    },
    {
      "cell_type": "markdown",
      "source": [
        "## Stick in a loop to draw a steady-state restitution curve."
      ],
      "metadata": {
        "id": "RQQZnRgB2xMW"
      }
    },
    {
      "cell_type": "markdown",
      "source": [
        "## Apply simulated drug block or mutation by scaling a conductance and seeing how things change.\n"
      ],
      "metadata": {
        "id": "2O86cnuv2xOs"
      }
    },
    {
      "cell_type": "markdown",
      "source": [
        "## Nice to show EAD or something happening, to link to arrhythmic whole-cell ideas (but let others do that)."
      ],
      "metadata": {
        "id": "Hx3Maa2i2xRI"
      }
    },
    {
      "cell_type": "markdown",
      "source": [],
      "metadata": {
        "id": "Sogn2NBu2xTh"
      }
    }
  ]
}