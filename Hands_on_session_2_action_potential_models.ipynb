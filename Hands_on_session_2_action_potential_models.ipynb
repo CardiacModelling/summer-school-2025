{
  "nbformat": 4,
  "nbformat_minor": 0,
  "metadata": {
    "colab": {
      "provenance": [],
      "include_colab_link": true
    },
    "kernelspec": {
      "name": "python3",
      "display_name": "Python 3"
    },
    "language_info": {
      "name": "python"
    }
  },
  "cells": [
    {
      "cell_type": "markdown",
      "metadata": {
        "id": "view-in-github",
        "colab_type": "text"
      },
      "source": [
        "<a href=\"https://colab.research.google.com/github/CardiacModelling/summer-school-2025/blob/main/Hands_on_session_2_action_potential_models.ipynb\" target=\"_parent\"><img src=\"https://colab.research.google.com/assets/colab-badge.svg\" alt=\"Open In Colab\"/></a>"
      ]
    },
    {
      "cell_type": "markdown",
      "source": [
        "# Hands-on session 2: action potential models\n",
        "\n",
        "In this session, we will\n",
        "\n",
        "- Download a model and prepare it for use in Myokit\n",
        "- Investigate how the action potential duration changes with pacing rates\n",
        "- Look at the effects of increasing or reducing current magnitudes."
      ],
      "metadata": {
        "id": "hLR62R94cJVv"
      }
    },
    {
      "cell_type": "markdown",
      "source": [
        "## Run this first:"
      ],
      "metadata": {
        "id": "Qh7xavds2YP8"
      }
    },
    {
      "cell_type": "code",
      "execution_count": 1,
      "metadata": {
        "id": "z4UWRR3HWa1a"
      },
      "outputs": [],
      "source": [
        "# Hide the installation logs:\n",
        "%%capture\n",
        "# If installation fails, comment out the line above and run again\n",
        "\n",
        "# Install Myokit and Sundials\n",
        "!apt-get install libsundials-dev\n",
        "!pip install myokit\n",
        "\n",
        "# Disable debug messages annoyingly shown on colab\n",
        "import logging\n",
        "logging.disable(logging.INFO)\n",
        "\n",
        "# Import myokit and matplotlib\n",
        "import myokit\n",
        "import matplotlib.pyplot as plt"
      ]
    },
    {
      "cell_type": "markdown",
      "source": [
        "## Importing a CellML model\n",
        "\n",
        "AP models are rarely written \"from scratch\".\n",
        "Instead, a typical study will start by either reimplementing a model based on published equations (very laborious!), or by reusing existing code.\n",
        "\n",
        "To facilitate reuse, the cell electrophysiology community has developed a model exchange format, called [CellML](https://www.cellml.org/), and an online repository, called [PMR](https://models.physiomeproject.org/welcome).\n",
        "Many cardiac AP models can be found in PMRs \"Electrophysiology\" section, or through the search function.\n",
        "\n",
        "Here, we'll download and import the 2008 model of the rabbit ventricular AP by [Mahajan et al.](https://doi.org/10.1529/biophysj.106.98160)."
      ],
      "metadata": {
        "id": "lMpge4Ea2w84"
      }
    },
    {
      "cell_type": "markdown",
      "source": [
        "### Obtaining the CellML file\n",
        "\n",
        "To use this model in Google Colab, either:\n",
        "\n",
        "1. Download it from [this PMR page](https://models.physiomeproject.org/exposure/a5586b72d07ce03fc40fc98ee846d7a5), then upload it to Colab using the \"Files\" tab on the left.\n",
        "2. Download it directly with `wget`, by uncommenting and running one of the lines below:"
      ],
      "metadata": {
        "id": "cNuHFr3UcPeA"
      }
    },
    {
      "cell_type": "code",
      "source": [
        "# Uncomment to download from PMR\n",
        "#!wget https://models.physiomeproject.org/workspace/mahajan_shiferaw_sato_baher_olcese_xie_yang_chen_restrepo_karma_garfinkel_qu_weiss_2008/download/e86beea89021fd242713459a5c4b5ea2ba33a445/mahajan_shiferaw_sato_baher_olcese_xie_yang_chen_restrepo_karma_garfinkel_qu_weiss_2008.cellml"
      ],
      "metadata": {
        "id": "etwgCK8-XD1G"
      },
      "execution_count": 2,
      "outputs": []
    },
    {
      "cell_type": "code",
      "source": [
        "# Uncomment to download from GitHub\n",
        "#!wget https://raw.githubusercontent.com/CardiacModelling/summer-school-2025/refs/heads/main/resources/mahajan_shiferaw_sato_baher_olcese_xie_yang_chen_restrepo_karma_garfinkel_qu_weiss_2008.cellml"
      ],
      "metadata": {
        "id": "QW0ZsjUHq9bP"
      },
      "execution_count": null,
      "outputs": []
    },
    {
      "cell_type": "markdown",
      "source": [
        "### Importing the model in Myokit\n",
        "\n",
        "To use the model in Myokit, we'll load the module [`myokit.formats`](https://myokit.readthedocs.io/en/stable/api_formats/index.html) and create a `CellMLImporter`"
      ],
      "metadata": {
        "id": "TfGRZGGQcTij"
      }
    },
    {
      "cell_type": "code",
      "source": [
        "# Create a CellML importer\n",
        "import myokit.formats\n",
        "importer = myokit.formats.importer('cellml')\n",
        "\n",
        "# Import the model\n",
        "model = importer.model('mahajan_shiferaw_sato_baher_olcese_xie_yang_chen_restrepo_karma_garfinkel_qu_weiss_2008.cellml')\n",
        "\n",
        "print(f'Imported model {model.name()}')"
      ],
      "metadata": {
        "id": "8mYz90jyXD4f"
      },
      "execution_count": null,
      "outputs": []
    },
    {
      "cell_type": "markdown",
      "source": [
        "To see what we've imported, we can print the model's equations:"
      ],
      "metadata": {
        "id": "MGsV9Xy1goxo"
      }
    },
    {
      "cell_type": "code",
      "source": [
        "print(model.code())"
      ],
      "metadata": {
        "id": "xprQpbp0XD7m"
      },
      "execution_count": null,
      "outputs": []
    },
    {
      "cell_type": "markdown",
      "source": [
        "Near the very bottom, we spot a component named `cell` that contains a state variable `cell.V` in units of `mV`.\n",
        "\n",
        "This has a defining equation of the form\n",
        "\\begin{align}\n",
        "\\frac{dV}{dt} = - \\frac{1}{C} \\sum{I}\n",
        "\\end{align}\n",
        "(note that the division by C isn't written explicitly here, but introduced by writing all the currents in units of pA/pF)."
      ],
      "metadata": {
        "id": "RQtbhlguhUrV"
      }
    },
    {
      "cell_type": "markdown",
      "source": [
        "Let's try running a simulation and plotting this variable.\n",
        "Unlike before, we won't be using a `protocol` (but see below):"
      ],
      "metadata": {
        "id": "jbMmotT5pdHf"
      }
    },
    {
      "cell_type": "code",
      "source": [
        "sim = myokit.Simulation(model)\n",
        "log = sim.run(1000)\n",
        "\n",
        "fig = plt.figure(figsize=(15, 4))\n",
        "ax = fig.add_subplot()\n",
        "ax.set_xlabel('Time (ms)')\n",
        "ax.set_ylabel('V (mV)')\n",
        "ax.plot(log.time(), log['cell.V'])\n",
        "plt.show()"
      ],
      "metadata": {
        "id": "t4vveYtuphbO"
      },
      "execution_count": null,
      "outputs": []
    },
    {
      "cell_type": "markdown",
      "source": [
        "That looks like an action potential!\n",
        "\n",
        "But as we didn't provide a pacing protocol, where is the stimulus current coming from?\n",
        "As in most CellML models, this is hardcoded in the model.\n",
        "In this case, in the same component \"`cell`\":"
      ],
      "metadata": {
        "id": "h7DlZRV-sT0f"
      }
    },
    {
      "cell_type": "code",
      "source": [
        "print(model.get('cell').code())"
      ],
      "metadata": {
        "id": "a3g-SmaqsQ8u"
      },
      "execution_count": null,
      "outputs": []
    },
    {
      "cell_type": "markdown",
      "source": [
        "The variable `i_Stim` is defined as a piecewise function, equal to either `0` or `stim_amplitude`, depending on the simulation time and the `stim_x` variables below.\n",
        "\n",
        "In particular, the variables `stim_duration` and `stim_period` indicate periodic pacing with a 3ms stimulus and 400ms period - fast for a human, but this is a rabbit model.\n",
        "However, in our 1000ms simulation, we only saw a single AP...\n",
        "\n",
        "To see what's happened, we plot each point visited by the simulation, and draw vertical lines at 400ms and 800ms, where we expected the second and third stimuli to appear."
      ],
      "metadata": {
        "id": "TKBMFymFsQhl"
      }
    },
    {
      "cell_type": "code",
      "source": [
        "fig = plt.figure(figsize=(15, 4))\n",
        "ax = fig.add_subplot()\n",
        "ax.set_xlabel('Time (ms)')\n",
        "ax.set_ylabel('V (mV)')\n",
        "ax.axvline(400, color='gray', ls='--')\n",
        "ax.axvline(800, color='gray', ls='--')\n",
        "ax.plot(log.time(), log['cell.V'], 'x')\n",
        "plt.show()"
      ],
      "metadata": {
        "id": "e8ud5usctp28"
      },
      "execution_count": null,
      "outputs": []
    },
    {
      "cell_type": "markdown",
      "source": [
        "As the simulation progresses, the variable step-size solver takes larger and larger steps.\n",
        "Around 800ms, the steps are much larger than 3ms and so the simulation has missed the short stimulus entirely!\n",
        "\n",
        "Near 400ms the situation is less clear, but we can zoom in to see the same thing happened:"
      ],
      "metadata": {
        "id": "Bo9jRpD3tphE"
      }
    },
    {
      "cell_type": "code",
      "source": [
        "fig = plt.figure(figsize=(15, 4))\n",
        "ax = fig.add_subplot()\n",
        "ax.set_xlabel('Time (ms)')\n",
        "ax.set_ylabel('V (mV)')\n",
        "ax.axvline(400, color='gray', ls='--')\n",
        "ax.axvline(403, color='gray', ls='--')\n",
        "ax.plot(log.time(), log['cell.V'], 'x')\n",
        "ax.set_xlim(395, 408)\n",
        "plt.show()"
      ],
      "metadata": {
        "id": "AhmW-seRsB1U"
      },
      "execution_count": null,
      "outputs": []
    },
    {
      "cell_type": "markdown",
      "source": [
        "To fix this, we can _force_ the solver to take smaller steps.\n",
        "By limiting step size to 3ms, the solver is guaranteed to land on a point within the stimulus."
      ],
      "metadata": {
        "id": "l2YCncfHxCAP"
      }
    },
    {
      "cell_type": "code",
      "source": [
        "sim.reset()\n",
        "sim.set_max_step_size(3)\n",
        "log = sim.run(1000)\n",
        "\n",
        "fig = plt.figure(figsize=(15, 4))\n",
        "ax = fig.add_subplot()\n",
        "ax.set_xlabel('Time (ms)')\n",
        "ax.set_ylabel('V (mV)')\n",
        "ax.plot(log.time(), log['cell.V'])\n",
        "plt.show()"
      ],
      "metadata": {
        "id": "sJWSEsEKXD-h"
      },
      "execution_count": null,
      "outputs": []
    },
    {
      "cell_type": "markdown",
      "source": [
        "And in fact, the sudden rapid change in the stimulus current will be detected by the solver, which will backtrack to try to find the exact point where the stimulus starts (and ends)."
      ],
      "metadata": {
        "id": "b6Bx_IKOxZau"
      }
    },
    {
      "cell_type": "code",
      "source": [
        "fig = plt.figure(figsize=(15, 4))\n",
        "ax = fig.add_subplot()\n",
        "ax.set_xlabel('Time (ms)')\n",
        "ax.set_ylabel('V (mV)')\n",
        "ax.axvline(400, color='gray', ls='--')\n",
        "ax.axvline(403, color='gray', ls='--')\n",
        "ax.plot(log.time(), log['cell.V'], 'x')\n",
        "ax.set_xlim(395, 408)\n",
        "plt.show()"
      ],
      "metadata": {
        "id": "pbEZzziMXEBc"
      },
      "execution_count": null,
      "outputs": []
    },
    {
      "cell_type": "markdown",
      "source": [
        "### Extracting the protocol from the model\n",
        "\n",
        "Running with a maximum step size is not great for performance.\n",
        "A better strategy is to modify the CellML file and replace the hard-coded stimulus with an entry point for a Myokit pacing protocol.\n",
        "\n",
        "This can often be done automatically using the module `myokit.lib.guess`:"
      ],
      "metadata": {
        "id": "I67KCntTzKzt"
      }
    },
    {
      "cell_type": "code",
      "source": [
        "# Extract the protocol from the model, and update the model code\n",
        "protocol = myokit.lib.guess.remove_embedded_protocol(model)\n",
        "\n",
        "print(protocol)"
      ],
      "metadata": {
        "id": "B5Xtk_a-XED1"
      },
      "execution_count": null,
      "outputs": []
    },
    {
      "cell_type": "code",
      "source": [
        "print(model.get('cell').code())"
      ],
      "metadata": {
        "id": "J9y7-Fpbzl1W"
      },
      "execution_count": null,
      "outputs": []
    },
    {
      "cell_type": "markdown",
      "source": [
        "Above, we can see the protocol has been correctly converted.\n",
        "\n",
        "In the model, `i_Stim` is now defined as `pace * stim_amplitude`, where `pace` will be set by the simulation engine - this is indicated through the `bind` keyword, which we won't cover further here.\n",
        "The variable `stim_period` is still present, but is no longer used.\n",
        "\n",
        "Using the updated model and extracted protocol, we no longer need the maximum step size:"
      ],
      "metadata": {
        "id": "9hftxYT4zvzs"
      }
    },
    {
      "cell_type": "code",
      "source": [
        "sim = myokit.Simulation(model, protocol)\n",
        "log = sim.run(1000)\n",
        "\n",
        "fig = plt.figure(figsize=(15, 4))\n",
        "ax = fig.add_subplot()\n",
        "ax.set_xlabel('Time (ms)')\n",
        "ax.set_ylabel('V (mV)')\n",
        "ax.plot(log.time(), log['cell.V'])\n",
        "plt.show()"
      ],
      "metadata": {
        "id": "boGy_1BJzlwg"
      },
      "execution_count": null,
      "outputs": []
    },
    {
      "cell_type": "markdown",
      "source": [
        "Now we have our model, and are ready to experiment!"
      ],
      "metadata": {
        "id": "vp6Gj9Ya0VqC"
      }
    },
    {
      "cell_type": "markdown",
      "source": [
        "### Further reading: Other model sources\n",
        "\n",
        "Not all models make it into PMR.\n",
        "By one estimate (based on the list below), around 40% of cardiac AP models are listed, with older models more likely to be included.\n",
        "\n",
        "Increasingly, authors do provide their original code, a supplements to publications, on lab websites, or in (GitHub) repositories.\n",
        "A long list of AP models with links to known implementations is maintained at https://github.com/myokit/model-list.\n",
        "To use these models in Myokit, it is necessary to manually translate the code."
      ],
      "metadata": {
        "id": "hUjDxEf8RZGi"
      }
    },
    {
      "cell_type": "markdown",
      "source": [
        "## Changing the pacing rate\n",
        "\n",
        "Now that we've separated the model from the pacing protocol, we can also easily change the pacing rate.\n",
        "\n",
        "To do this, we could manually specify a new protocol:"
      ],
      "metadata": {
        "id": "AQh4nbRs2xCC"
      }
    },
    {
      "cell_type": "code",
      "source": [
        "protocol = myokit.parse_protocol('''\n",
        "  [[protocol]]\n",
        "  # Level  Start    Length   Period   Multiplier\n",
        "  1.0      0.0      3.0      600.0    0\n",
        "  ''')"
      ],
      "metadata": {
        "id": "855GVHbU1tpf"
      },
      "execution_count": 15,
      "outputs": []
    },
    {
      "cell_type": "markdown",
      "source": [
        "But it's easier to use the [blocktrain](https://myokit.readthedocs.io/en/stable/api_simulations/Protocol.html#myokit.pacing.blocktrain) method:"
      ],
      "metadata": {
        "id": "Likj6MT014sk"
      }
    },
    {
      "cell_type": "code",
      "source": [
        "period = 600\n",
        "protocol = myokit.pacing.blocktrain(period=period, duration=3)"
      ],
      "metadata": {
        "id": "CQPXtSY912ce"
      },
      "execution_count": 16,
      "outputs": []
    },
    {
      "cell_type": "markdown",
      "source": [
        "✏️ Below, create a simulation using a new protocol with a period of 220ms, and simulate at least 5 APs."
      ],
      "metadata": {
        "id": "5tdo5PhM2NeQ"
      }
    },
    {
      "cell_type": "code",
      "source": [],
      "metadata": {
        "id": "YQCxxiE12H-6"
      },
      "execution_count": 16,
      "outputs": []
    },
    {
      "cell_type": "markdown",
      "source": [
        "Looking closely at the shape of the APs, you should notice\n",
        "\n",
        "1. A change in the shape from the 1st to the 5th AP, particularly in the plateau phase\n",
        "2. A gradual reduction in the action potential duration (APD).\n",
        "\n",
        "Biologically, this is highly desirable behaviour: the cell is adapting to the new pacing rate!"
      ],
      "metadata": {
        "id": "hjF-Y5Yg2l7I"
      }
    },
    {
      "cell_type": "markdown",
      "source": [
        "✏️ Make the changes more clear by creating a plot overlaying the 1st and 5th APs.\n",
        "\n",
        "💡 Manipulating times is easier with `numpy`. You can use `log = log.npview()` to convert all logged data to numpy.\n",
        "\n",
        "💡 It's even less work to use the Myokit method [log.split_periodic()](https://myokit.readthedocs.io/en/stable/api_simulations/DataLog.html#myokit.DataLog.split_periodic)"
      ],
      "metadata": {
        "id": "a6Kcg1Yc4N88"
      }
    },
    {
      "cell_type": "code",
      "source": [],
      "metadata": {
        "id": "HP5qoq4Q5LyF"
      },
      "execution_count": 16,
      "outputs": []
    },
    {
      "cell_type": "code",
      "source": [],
      "metadata": {
        "id": "NAmPT6qs5MEa"
      },
      "execution_count": 16,
      "outputs": []
    },
    {
      "cell_type": "markdown",
      "source": [
        "✏️ Create a new simulation with a pacing period of 190ms and simulate 10 APs. What happens during the first AP?"
      ],
      "metadata": {
        "id": "n8jvVa8P6hj4"
      }
    },
    {
      "cell_type": "code",
      "source": [],
      "metadata": {
        "id": "WjjCIIMl6goI"
      },
      "execution_count": 16,
      "outputs": []
    },
    {
      "cell_type": "markdown",
      "source": [
        "✏️ The speed at which the model adapts is dictated by the most slowly changing state variables. In AP models, these are usually internal ion concentrations (e.g. Na+, K+, Cl-, and most importantly Ca2+). Two important concentration variables in this model are `Na.Na_i` and `Ca.Ca_i`, representing the Na+ and Ca2+ concentrations in the cytoplasm. Using the `log` from the simulation above, plot their evolution over time:"
      ],
      "metadata": {
        "id": "3DarHXef7SUS"
      }
    },
    {
      "cell_type": "code",
      "source": [],
      "metadata": {
        "id": "dlkiIDqq-cK7"
      },
      "execution_count": 16,
      "outputs": []
    },
    {
      "cell_type": "markdown",
      "source": [
        "## Pacing to \"steady state\"\n",
        "\n",
        "Simulation experiments often start by ensuring the cell has settled into a stable rhythm, and is not adapting to any changes we made (or badly chosen initial conditions).\n",
        "\n",
        "In mathematical terms, we need to wait for the system to reach a _periodic orbit_.\n",
        "But in AP modeller's jargon this is (incorrectly) called _reaching a steady state_.\n",
        "\n",
        "To test if we're in a \"steady state\", we're going to plot the cytosolic sodium and calcium concentrations again, but with two changes that improve performance:\n",
        "\n",
        "1. We'll only log the variables we need by setting the `log` argument in our call to `run`.\n",
        "2. We'll only log _one point per period_, by setting a `log_interval`.\n"
      ],
      "metadata": {
        "id": "EAg-cd122w_P"
      }
    },
    {
      "cell_type": "code",
      "source": [
        "period = 350\n",
        "protocol = myokit.pacing.blocktrain(period=period, duration=3)\n",
        "sim = myokit.Simulation(model, protocol)\n",
        "log = sim.run(500 * period, log=['Environment.time', 'Ca.Ca_i', 'Na.Na_i'], log_interval=period)\n",
        "\n",
        "fig = plt.figure(figsize=(15, 9))\n",
        "ax = fig.add_subplot(2, 1, 1)\n",
        "ax.set_ylabel('[Na]i (mM)')\n",
        "ax.plot(log.time(), log['Na.Na_i'], '.')\n",
        "ax = fig.add_subplot(2, 1, 2)\n",
        "ax.set_xlabel('Time (ms)')\n",
        "ax.set_ylabel('[Ca]i (mM)')\n",
        "ax.plot(log.time(), log['Ca.Ca_i'], '.')\n",
        "plt.show()\n"
      ],
      "metadata": {
        "id": "KbDNHRLk1wkT"
      },
      "execution_count": null,
      "outputs": []
    },
    {
      "cell_type": "markdown",
      "source": [
        "This shows that, even for a modest change in pacing rate, adaptation (in this model) takes hundreds of beats.\n",
        "\n",
        "We can also spot something strange going on with `[Ca]i` during the first beats. We will revisit this below!"
      ],
      "metadata": {
        "id": "2aydJ35dA5nX"
      }
    },
    {
      "cell_type": "markdown",
      "source": [
        "✏️ So far, we have assumed that the model was in a \"steady state\" when we first loaded it. This is a dangerous assumption! Repeat the above experiment to check.\n",
        "\n",
        "💡 Hint 1: After running once, repeat with higher precision by calling `sim.set_tolerance(1e-8, 1e-8)`.\n",
        "\n",
        "💡 Hint 2: When reading the final values on the plots, make sure to check the top-left part of the plot, where matplotlib sometimes places an \"offset\". The values on the y-axis should all be read as \"value\" + \"offset\"."
      ],
      "metadata": {
        "id": "G1yTdBNCBVm6"
      }
    },
    {
      "cell_type": "code",
      "source": [],
      "metadata": {
        "id": "ogV3EDed1v7j"
      },
      "execution_count": 17,
      "outputs": []
    },
    {
      "cell_type": "code",
      "source": [],
      "metadata": {
        "id": "sVpG-deO0fJq"
      },
      "execution_count": 17,
      "outputs": []
    },
    {
      "cell_type": "markdown",
      "source": [
        "**Note**: The long simulation time needed to bring a cell model into \"steady state\" is one of the reasons that whole-heart simulations typically avoid models with variable internal concentrations."
      ],
      "metadata": {
        "id": "XtpxkpweIXvR"
      }
    },
    {
      "cell_type": "markdown",
      "source": [
        "## Calculating action potential durations\n",
        "\n",
        "Now, let's quantify the changes to the AP we saw, by measuring the action potential duration (APD).\n",
        "\n",
        "To do this, we'll first need to define what an \"AP\" is.\n",
        "This can get quite complicated, but for now, we'll stick with the common definition of \"any depolarisation above 10% of the voltage range\", i.e. the APD90.\n",
        "\n",
        "We'll start by running a quick simulation to find the lower and upper bounds of the voltage range."
      ],
      "metadata": {
        "id": "-H4AJnGV2xJf"
      }
    },
    {
      "cell_type": "code",
      "source": [
        "period = 400\n",
        "protocol = myokit.pacing.blocktrain(period=period, duration=3)\n",
        "sim = myokit.Simulation(model, protocol)\n",
        "log = sim.run(3 * period)\n",
        "\n",
        "fig = plt.figure(figsize=(12, 4))\n",
        "ax = fig.add_subplot()\n",
        "ax.plot(log.time(), log['cell.V'])\n",
        "plt.show()"
      ],
      "metadata": {
        "id": "qer0v4HDD6cD"
      },
      "execution_count": null,
      "outputs": []
    },
    {
      "cell_type": "markdown",
      "source": [
        "Now we can get the minimum and maximum voltages using `min` and `max`:"
      ],
      "metadata": {
        "id": "noR3GcliE8Jq"
      }
    },
    {
      "cell_type": "code",
      "source": [
        "Vmin = min(log['cell.V'])\n",
        "Vmax = max(log['cell.V'])\n",
        "print(Vmin, Vmax)"
      ],
      "metadata": {
        "id": "LKVAzOH2Ew6x"
      },
      "execution_count": null,
      "outputs": []
    },
    {
      "cell_type": "code",
      "source": [
        "V90 = Vmin + 0.1 * (Vmax - Vmin)\n",
        "print('Threshold:', V90)"
      ],
      "metadata": {
        "id": "grdqt025FOCY"
      },
      "execution_count": null,
      "outputs": []
    },
    {
      "cell_type": "markdown",
      "source": [
        "Using this threshold, we run another simulation, but this time with APD measurement enabled.\n",
        "We can do this by passing in a `apd_variable` and `apd_threshold` to the `run` method:"
      ],
      "metadata": {
        "id": "CvncF0-gEwzW"
      }
    },
    {
      "cell_type": "code",
      "source": [
        "period = 400\n",
        "protocol = myokit.pacing.blocktrain(period=period, duration=3)\n",
        "sim = myokit.Simulation(model, protocol)\n",
        "log, apds = sim.run(3 * period, apd_variable='cell.V', apd_threshold=V90)\n",
        "\n",
        "print(apds)"
      ],
      "metadata": {
        "id": "me_9NT-rFqt_"
      },
      "execution_count": null,
      "outputs": []
    },
    {
      "cell_type": "markdown",
      "source": [
        "Note how this changes the return type of the [run](https://myokit.readthedocs.io/en/stable/api_simulations/Simulation.html#myokit.Simulation.run) method: It now returns _two_ DataLogs, where the second has the entries `start` and `duration` containing the start times and durations of all detected APs."
      ],
      "metadata": {
        "id": "it_AyHBOHbne"
      }
    },
    {
      "cell_type": "markdown",
      "source": [
        "✏️ Change the pacing frequency to 350ms, and plot APD during the first 1000 beats.\n",
        "\n",
        "💡 You can speed up the simulation significantly by disabling logging. To do this, add `log=myokit.LOG_NONE` to the run method's arguments.\n",
        "\n",
        "💡 For the plot's x-axis, you can use `range(len(apds['duration']))` to create a list of the numbers [0, 1, 2, ...] up to the number of APs."
      ],
      "metadata": {
        "id": "ED0mzvl_HQq5"
      }
    },
    {
      "cell_type": "code",
      "source": [],
      "metadata": {
        "id": "GHfoRAIQKHjZ"
      },
      "execution_count": 21,
      "outputs": []
    },
    {
      "cell_type": "markdown",
      "source": [
        "✏️ Repeat this exercise with a period of 200ms. What do you observe?\n",
        "\n",
        "💡 If the plot looks strange, try zooming in on the final 10 APs with `ax.set_xlim(990, 1000)`."
      ],
      "metadata": {
        "id": "vvQbPkylLvUI"
      }
    },
    {
      "cell_type": "code",
      "source": [],
      "metadata": {
        "id": "Pu_VU2oVL2Ai"
      },
      "execution_count": 21,
      "outputs": []
    },
    {
      "cell_type": "code",
      "source": [],
      "metadata": {
        "id": "QjjiQGTfMHqm"
      },
      "execution_count": 21,
      "outputs": []
    },
    {
      "cell_type": "markdown",
      "source": [
        "At this rate, the system doesn't settle into a periodic orbit of 200ms.\n",
        "Instead, the APD alternates between two stable values: it might still be periodic, but the period has doubled to 400ms!\n",
        "\n",
        "In cell electrophysiology, this is known as _alternans_ and is of particular interest because of its [association with reentrant arrhythmias](https://www.ahajournals.org/doi/10.1161/JAHA.119.013750)."
      ],
      "metadata": {
        "id": "SqipVC1aMYOC"
      }
    },
    {
      "cell_type": "markdown",
      "source": [
        "## Restitution\n",
        "\n",
        "> Cardiac restitution is the ability of the heart to recover from one beat to the next. At its simplest, it is the relationship of how long the heart is in contraction compared to how much rest it has between beats to permit recovery.\n",
        "\n",
        "[Fossa, 2017](https://onlinelibrary.wiley.com/doi/epdf/10.1111/anec.12460).\n",
        "\n",
        "At the _cell level_, the term _restitution_ is used to refer to the relationship between the action potential duration (APD) and diastolic interval (DI).\n",
        "A common way to visualise this, is to plot the APD as a function of the DI."
      ],
      "metadata": {
        "id": "RQQZnRgB2xMW"
      }
    },
    {
      "cell_type": "markdown",
      "source": [
        "✏️ Plot the restitution curve for the Mahajan et al. model, using the periods `[300, 280, 260, 240, 220, 210, 205, 200, 195, 190]`. To get closer to steady state, run for at least 100 beats at each period.\n",
        "\n",
        "💡 Make sure you log at least 2 APDs at each period, in case of alternans\n",
        "\n",
        "💡 To improve performance, disable logging with `log=myokit.LOG_NONE`\n",
        "\n",
        "💡 You can reuse the same simulation for each period, by changing the protocol with `sim.set_protocol()` and resetting time to 0 with `sim.set_time(0)`"
      ],
      "metadata": {
        "id": "KOn0jNcuG2d3"
      }
    },
    {
      "cell_type": "code",
      "source": [],
      "metadata": {
        "id": "lsMG5eryJN9i"
      },
      "execution_count": 21,
      "outputs": []
    },
    {
      "cell_type": "markdown",
      "source": [
        "## Upsetting the balance in the plateau\n",
        "\n",
        "During the plateau phase of the AP, the inward current ICaL is balanced by outward potassium currents.\n",
        "In humans, the strongest potassium current is IKr, but in this rabbit model IKs is dominant.\n",
        "The size of these currents is determined by model variables `ICaL.gca = 182 [mmol/cm/C]` and `IKs.gks = 0.1386 [mS/uF]`.\n",
        "\n",
        "✏️ Show the effect of reducing or increasing ICaL and IKs on the AP, by changing the `gca` and `gks` values using [`sim.set_constant`](https://myokit.readthedocs.io/en/stable/api_simulations/Simulation.html#myokit.Simulation.set_constant)."
      ],
      "metadata": {
        "id": "2O86cnuv2xOs"
      }
    },
    {
      "cell_type": "code",
      "source": [],
      "metadata": {
        "id": "iSN1AfNsKmQo"
      },
      "execution_count": 21,
      "outputs": []
    },
    {
      "cell_type": "code",
      "source": [],
      "metadata": {
        "id": "4nBBYdF9K1LC"
      },
      "execution_count": 21,
      "outputs": []
    },
    {
      "cell_type": "markdown",
      "source": [
        "✏️ Show the effect of changing ICaL or IKs size on the restitution curve."
      ],
      "metadata": {
        "id": "UoxkkPUzovs_"
      }
    },
    {
      "cell_type": "code",
      "source": [],
      "metadata": {
        "id": "BwWNyE69ntCE"
      },
      "execution_count": 21,
      "outputs": []
    }
  ]
}