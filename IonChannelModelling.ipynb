{
  "nbformat": 4,
  "nbformat_minor": 0,
  "metadata": {
    "colab": {
      "provenance": [],
      "include_colab_link": true
    },
    "kernelspec": {
      "name": "python3",
      "display_name": "Python 3"
    },
    "language_info": {
      "name": "python"
    }
  },
  "cells": [
    {
      "cell_type": "markdown",
      "metadata": {
        "id": "view-in-github",
        "colab_type": "text"
      },
      "source": [
        "<a href=\"https://colab.research.google.com/github/CardiacModelling/summer-school-2025/blob/main/IonChannelModelling.ipynb\" target=\"_parent\"><img src=\"https://colab.research.google.com/assets/colab-badge.svg\" alt=\"Open In Colab\"/></a>"
      ]
    },
    {
      "cell_type": "markdown",
      "source": [
        "# Hands-on session 1: ion channel models\n",
        "In this session, we will\n",
        "\n",
        "\n",
        "*   Define a voltage clamp protocol\n",
        "*   Load and run simulations for three ion channel models\n",
        "*   Introduce a drug-binding component and simulate channel block.\n"
      ],
      "metadata": {
        "id": "scrT6n7nE-jm"
      }
    },
    {
      "cell_type": "markdown",
      "source": [
        "### Step 1: Install Myokit, Sundials, import the required modules, and upload the required model files"
      ],
      "metadata": {
        "id": "kowt5TNxjgWs"
      }
    },
    {
      "cell_type": "code",
      "execution_count": 1,
      "metadata": {
        "collapsed": true,
        "id": "XhpGWCkViyiI"
      },
      "outputs": [],
      "source": [
        "# Don't show the installation logs\n",
        "%%capture\n",
        "# If installation fails, comment out the line above and run again!\n",
        "\n",
        "# Install Myokit and Sundials\n",
        "!apt-get install libsundials-dev\n",
        "!pip install myokit\n",
        "\n",
        "# Disable debug messages annoyingly shown on colab\n",
        "import logging\n",
        "logging.disable(logging.INFO)\n",
        "\n",
        "# Import Myokit, matplotlib and numpy\n",
        "import myokit\n",
        "from matplotlib import pyplot as plt\n",
        "import numpy as np\n",
        "\n",
        "!wget https://raw.githubusercontent.com/CardiacModelling/summer-school-2025/refs/heads/main/resources/single_gate_HH.mmt\n",
        "!wget https://raw.githubusercontent.com/CardiacModelling/summer-school-2025/refs/heads/main/resources/two_gate_HH.mmt\n",
        "!wget https://raw.githubusercontent.com/CardiacModelling/summer-school-2025/refs/heads/main/resources/square_MM.mmt\n",
        "!wget https://raw.githubusercontent.com/CardiacModelling/summer-school-2025/refs/heads/main/resources/drug_bind_MM.mmt"
      ]
    },
    {
      "cell_type": "markdown",
      "source": [
        "After running the above code block, if the following model files don't appear in the Files section of your colab session (in the left sidebar), download them from [resources](https://github.com/CardiacModelling/summer-school-2025/tree/main/resources) in the github repo and upload them to this session.\n",
        "\n",
        "```\n",
        "single_gate_HH.mmt\n",
        "two_gate_HH.mmt\n",
        "square_MM.mmt\n",
        "drug_bind_MM.mmt\n",
        "```\n"
      ],
      "metadata": {
        "id": "646oNyw_r6DA"
      }
    },
    {
      "cell_type": "markdown",
      "source": [
        "### Step 2: Define and plot a voltage clamp protocol\n",
        "There are several ways to define a Myokit voltage protocol. As we will be using a simple step protocol in the following examples, we can simply define it using the `Protocol()` class and the `add_step(voltage, time)` attribute.\n",
        "\n",
        "💡 See the [Myokit documentation](https://myokit.readthedocs.io/en/stable/api_simulations/Protocol.html) for further details on Myokit protocols."
      ],
      "metadata": {
        "id": "ubsL23jVjm2C"
      }
    },
    {
      "cell_type": "code",
      "source": [
        "# initialise a Myokit protocol\n",
        "protocol = myokit.Protocol()\n",
        "\n",
        "# add three voltage steps\n",
        "protocol.add_step(-80, 1000) # start at -80mV for 1s\n",
        "protocol.add_step(20, 1000) # step to 20mV for 1s\n",
        "protocol.add_step(-120, 4000) # drop down to -120mV for 1s\n",
        "\n",
        "# define the time we wish to simulate over\n",
        "max_time = 3000 # maximum time to simulate over (3s)\n",
        "dt = 0.1 # step size\n",
        "times = np.arange(0, max_time, dt) # use numpy to define the range of times\n",
        "\n",
        "# get the voltages at the defined simulation times\n",
        "Vm = protocol.value_at_times(times)\n",
        "\n",
        "# plot the voltage protocol\n",
        "fig, ax = plt.subplots(figsize=(7,3))\n",
        "ax.plot(times, Vm, linewidth=2)\n",
        "ax.set_xlim(0, max_time)\n",
        "ax.set_title('Voltage Protocol')\n",
        "ax.set_ylabel('Voltage (mV)')\n",
        "ax.set_xlabel('Time (ms)')\n",
        "plt.show()"
      ],
      "metadata": {
        "id": "BjrEDCGsjmhi"
      },
      "execution_count": null,
      "outputs": []
    },
    {
      "cell_type": "markdown",
      "source": [
        "### Step 3: Define a single Hodgkin-Huxley gate ion channel ODE model and run a simulation\n",
        "\n",
        "The first ion channel model we will consider is a single Hodgkin-Huxley activation gate '$O$' defined by the following equation\n",
        "\n",
        "$\\frac{dO}{dt} = \\alpha(V_m)(1-O)-\\beta(V_m)O$,\n",
        "\n",
        "where $O$ is the Open state probability, $V_m$ is the the transmembrane potential, and $\\alpha$ and $\\beta$ are voltaged-dependent transition rates. Double-click on the `single_gate_HH.mmt` file in the Files sidebar to inspect the myokit model form. We can load this model with `load_model()`, and then use the `Simulation()` class to define a simulation that combines our model and protocol. The `run(duration)` attribute then allows us to run the simulation for a given time.\n",
        "\n",
        "\n",
        "💡 See the [Myokit documentation](https://myokit.readthedocs.io/en/stable/api_simulations/Simulation.html#) for more information on Myokit simulations."
      ],
      "metadata": {
        "id": "r1B9ESuJkQjN"
      }
    },
    {
      "cell_type": "code",
      "source": [
        "# load in the single HH gate myokit model file\n",
        "single_gate_model = myokit.load_model(\"single_gate_HH.mmt\")\n",
        "\n",
        "# initialise myokit simulation with voltage protocol\n",
        "single_gate_sim = myokit.Simulation(single_gate_model, protocol)\n",
        "\n",
        "# run simulation and save output\n",
        "single_gate_log = single_gate_sim.run(max_time, log_times=times)"
      ],
      "metadata": {
        "collapsed": true,
        "id": "qL-F3ZU7kWyt"
      },
      "execution_count": 3,
      "outputs": []
    },
    {
      "cell_type": "markdown",
      "source": [
        "### Step 4: Plot the simulated Open state probability\n",
        "Next we plot the simulated Open state probability over time. Note how as the voltage steps up from -80mV to 0mV, the Open channel probability increases from 0 to 1. When the voltage drops down to -120mV the Open probability goes back to 0 as the channel closes."
      ],
      "metadata": {
        "id": "kBssexLekaGZ"
      }
    },
    {
      "cell_type": "code",
      "source": [
        "# get simulated Open state probability\n",
        "single_gate_O = np.array(single_gate_log['ikr.O'])\n",
        "\n",
        "# plot the simulated Open state probability\n",
        "fig, (ax1,ax2) = plt.subplots(2,1, figsize=(7,6))\n",
        "\n",
        "ax1.plot(times, Vm, linewidth=2)\n",
        "ax1.set_xlim(0, max_time)\n",
        "ax1.set_title('Voltage Protocol')\n",
        "ax1.set_ylabel('Voltage (mV)')\n",
        "\n",
        "ax2.plot(times, single_gate_O, linewidth=2)\n",
        "ax2.set_xlim(0, max_time)\n",
        "ax2.set_title('Open State Probability')\n",
        "ax2.set_ylabel('Probability')\n",
        "ax2.set_xlabel('Time (ms)')\n",
        "plt.tight_layout()\n",
        "plt.show()"
      ],
      "metadata": {
        "id": "8bGMma0jkdEB"
      },
      "execution_count": null,
      "outputs": []
    },
    {
      "cell_type": "markdown",
      "source": [
        "### Step 5: Calculate and plot the ion channel current\n",
        "We can use the following equation to calculate the channel current based on the Open proportion\n",
        "\n",
        "$I = g \\cdot O \\cdot (V_m - E)$,\n",
        "\n",
        "where $g$ is the channel conductance, $V_m$ is transmembrane potential, and $E$ is the Nernst potential. The Nernst potential is calculated using the Nernst equation\n",
        "\n",
        "$E = \\frac{RT}{F}ln(\\frac{K_o}{K_i})$,\n",
        "\n",
        "where $R$ is the universal ideal gas constant, $T$ is temperature (in Kelvin), $F$ is Faraday's constant, and $K_o$ and $K_i$ are the extracellular and intracellular Potassium concentrations respectively.\n",
        "\n",
        "✏️ **Task:** Correct the equations for the Nernst potential and channel current in the following block of code to plot the simulated current.\n",
        "\n",
        "💡 The correct current should reach an equilibrium of $\\sim16.9$pA during the 0mV step."
      ],
      "metadata": {
        "id": "adzrmZPIkdRr"
      }
    },
    {
      "cell_type": "code",
      "source": [
        "# define channel conductance\n",
        "g = 0.1524\n",
        "\n",
        "# calculate Nernst potential\n",
        "R = 8314 # universal ideal gas constant\n",
        "T = 298.15 # temperature\n",
        "F = 96485 # Faraday's constant\n",
        "Ko = 4 # extracellular Potassium\n",
        "Ki = 140 # intracellular Potassium\n",
        "\n",
        "######## NERNST POTENTIAL ######\n",
        "E = T * np.log(Ko) #CORRECT THIS\n",
        "################################\n",
        "\n",
        "######## CHANNEL CURRENT ##################\n",
        "single_gate_I = single_gate_O #CORRECT THIS\n",
        "###########################################\n",
        "\n",
        "# plot current\n",
        "fig, ax = plt.subplots(figsize=(7,3))\n",
        "ax.plot(times, single_gate_I, linewidth=2)\n",
        "ax.set_xlim(0, max_time)\n",
        "ax.set_title('Current')\n",
        "ax.set_ylabel('Current (pA)')\n",
        "ax.set_xlabel('Time (ms)')\n",
        "plt.show()"
      ],
      "metadata": {
        "id": "uyPElGOOkf1W"
      },
      "execution_count": null,
      "outputs": []
    },
    {
      "cell_type": "markdown",
      "source": [
        "### Step 6: Define a new Hodgkin-Huxley model with two gates and run a simulation\n",
        "We will now increase the model complexity by introducing a recovery gate. Double-click on the `two_gate_HH.mmt` file to inspect the Myokit model file. The activation gate remains from the previous model (the Open state has been renamed as `a` for clarity), and now there is an additional state `r`. Note that the Ordinary Differential Equation (ODE) defining the recovery gate is currently missing from the model file.\n",
        "\n",
        "✏️ **Task:** Complete the model equation for the recovery gate by editing `two_gate_HH.mmt`.\n",
        "\n",
        "💡 The $(1-r)\\rightarrow r$ transition rate is  $\\alpha_r$.\n",
        "\n",
        "💡 The $r\\rightarrow (1-r)$ transition rate is  $\\beta_r$.\n",
        "\n",
        "💡 In a Hodkin-Huxley model, each gating process has an independent ODE.\n",
        "\n",
        "Once you have completed the missing ODE, run the below code block to load and run the two gate Hodgkin-Huxley model simulation.\n"
      ],
      "metadata": {
        "id": "nfSAbxtIkhyz"
      }
    },
    {
      "cell_type": "code",
      "source": [
        "#load in the two HH gate myokit model file\n",
        "two_gate_model = myokit.load_model(\"two_gate_HH.mmt\")\n",
        "\n",
        "# initialise myokit simulation with voltage protocol\n",
        "two_gate_sim = myokit.Simulation(two_gate_model, protocol)\n",
        "\n",
        "# run simulation and save output\n",
        "two_gate_log = two_gate_sim.run(max_time, log_times=times)"
      ],
      "metadata": {
        "id": "XXjh_tn1kmd0"
      },
      "execution_count": null,
      "outputs": []
    },
    {
      "cell_type": "markdown",
      "source": [
        "### Step 7: Plot the simulated Open state probability\n",
        "In the two-gate model, the channel is defined as being open only when both of the independent gates are in an 'open' configuration. We can, therefore, calculate the Open state probability by taking the product of `a` and `r`."
      ],
      "metadata": {
        "id": "Qmf_iYJk1rMp"
      }
    },
    {
      "cell_type": "code",
      "source": [
        "# get simulated Open state probability (a * r)\n",
        "two_gate_O = np.array(two_gate_log['ikr.a']) * np.array(two_gate_log['ikr.r'])\n",
        "\n",
        "# plot the simulated Open state probability\n",
        "fig, ax = plt.subplots(figsize=(7,3))\n",
        "ax.plot(times, two_gate_O, linewidth=2)\n",
        "ax.set_xlim(0, max_time)\n",
        "ax.set_title('Open State Probability')\n",
        "ax.set_ylabel('Probability')\n",
        "ax.set_xlabel('Time (ms)')\n",
        "plt.show()"
      ],
      "metadata": {
        "id": "FGoOV_8D0eZW"
      },
      "execution_count": null,
      "outputs": []
    },
    {
      "cell_type": "markdown",
      "source": [
        "### Step 8: Calculate and plot the ion channel current\n",
        "Once again, we can calculate the channel current with the following equation\n",
        "\n",
        "$I = g \\cdot O \\cdot (V_m - E)$.\n",
        "\n"
      ],
      "metadata": {
        "id": "d5NOGv601vWn"
      }
    },
    {
      "cell_type": "code",
      "source": [
        "# calculate current\n",
        "two_gate_I = g * two_gate_O * (Vm - E)\n",
        "\n",
        "# plot current\n",
        "fig, ax = plt.subplots(figsize=(7,3))\n",
        "ax.plot(times, two_gate_I, linewidth=2)\n",
        "ax.set_xlim(0, max_time)\n",
        "ax.set_title('Current')\n",
        "ax.set_ylabel('Current (pA)')\n",
        "ax.set_xlabel('Time (ms)')\n",
        "plt.show()"
      ],
      "metadata": {
        "id": "yYHJ6ToN1xVt"
      },
      "execution_count": null,
      "outputs": []
    },
    {
      "cell_type": "markdown",
      "source": [
        "### Step 9: Define an equivalent four-state *square* Markov model and run a simulation\n",
        "\n",
        "The Hodgkin-Huxley model form limits us to independent gating processes. Further modelling flexibility can be introduced by using Markov models. We will now consider a four-state *square* Markov model that is equivalent to the previously considered two-gate Hodgkin-Huxley model. Double-click on the `square_MM.mmt` file to inspect the Myokit model file. The four model states are now:\n",
        "\n",
        "\n",
        "*   Open (O)\n",
        "*   Closed Inactive (CI)\n",
        "*   Inactive (I)\n",
        "*   Closed (C).\n",
        "\n",
        "Note that the ODE for the Inactive state ($\\frac{dI}{dt}$) is currently incomplete.\n",
        "\n",
        "✏️ **Task:** Complete the model equation for the Inactive state by editing `square_MM.mmt`.\n",
        "\n",
        "Once you have completed the missing ODE, run the below code block to load and run the four-state Markov model simulation."
      ],
      "metadata": {
        "id": "ZQgh_hiTknd5"
      }
    },
    {
      "cell_type": "code",
      "source": [
        "# load in the square MM myokit file\n",
        "square_model = myokit.load_model(\"square_MM.mmt\")\n",
        "\n",
        "# initialise myokit simulation with voltage protocol\n",
        "square_sim = myokit.Simulation(square_model, protocol)\n",
        "\n",
        "# run simulation and save output\n",
        "square_log = square_sim.run(max_time, log_times=times)"
      ],
      "metadata": {
        "id": "Khh_hjqCkr1L"
      },
      "execution_count": null,
      "outputs": []
    },
    {
      "cell_type": "markdown",
      "source": [
        "### Step 10: Check that the current in the four-state Markov model matches the current in the two-gate Hodgkin-Huxley model\n",
        "The current in the four-state Markov model should match the current in the two-gate Hodgkin-Huxley model. Run the following code to check that is the case."
      ],
      "metadata": {
        "id": "OUD8gXeqksad"
      }
    },
    {
      "cell_type": "code",
      "source": [
        "# get simulated Open state probability\n",
        "square_O = np.array(square_log['ikr.O'])\n",
        "\n",
        "# calculate current\n",
        "square_I = g * square_O * (Vm - E)\n",
        "\n",
        "# plot current\n",
        "fig, ax = plt.subplots(figsize=(7,3))\n",
        "ax.plot(times, two_gate_I, linewidth=2, label = 'HH current')\n",
        "ax.plot(times, square_I, linestyle = '--', linewidth=2, label = 'MM current')\n",
        "ax.set_xlim(0, max_time)\n",
        "ax.set_title('Current')\n",
        "ax.set_ylabel('Current (pA)')\n",
        "ax.set_xlabel('Time (ms)')\n",
        "plt.legend()\n",
        "plt.show()"
      ],
      "metadata": {
        "id": "Y7FaOj1u3Q32"
      },
      "execution_count": null,
      "outputs": []
    },
    {
      "cell_type": "markdown",
      "source": [
        "### Step 11: Add a drug-binding state to the Markov model\n",
        "The increased flexibility of the Markov model form allows us to model drug-channel interactions. If we wish to model a drug that can bind to the channel *only* when it is in an open state, we can introduce an OD (Open Drug-bound) state. For a given drug concentration, $[D]$, hill coefficient, $h$, and on/off binding rates, $k_{on}$ and $k_{off}$, we can define the differential equation for OD as\n",
        "\n",
        "$\\frac{dOD}{dt} = k_{on}[D]^h\\cdot O - k_{off}\\cdot OD$\n",
        "\n",
        "Double-click on the `drug_bind_MM.mmt` file to inspect the Myokit model file. This model intends to represent a four-state Markov model with Open state drug-binding. Note that the model equations for the O and OD states are incomplete.\n",
        "\n",
        "✏️ **Task:** Complete the model equation for the Open and Open Drug-bound states by editing `drug_bind_MM.mmt`.\n",
        "\n",
        "💡 The completed model should ensure that any change in the Open Drug-bound state is inversely reflected in the Open state\n",
        "\n",
        "Once you have completed the missing ODEs, run the below code block to load and run the drug binding Markov model simulation. This code runs one simulation without a drug (i.e. $[D]=0$) and then uses `reset()` to reset the simulation before repeating with a drug compound added (i.e. $[D] = 1500$)."
      ],
      "metadata": {
        "id": "rnzc_d6nkvmN"
      }
    },
    {
      "cell_type": "code",
      "source": [
        "# load in the four-state MM with drug bound state myokit file\n",
        "drug_bind_model = myokit.load_model(\"drug_bind_MM.mmt\")\n",
        "\n",
        "# initialise myokit simulation with voltage protocol\n",
        "drug_bind_sim = myokit.Simulation(drug_bind_model, protocol)\n",
        "\n",
        "# run simulation with no drug and save output\n",
        "drug_bind_log_1 = drug_bind_sim.run(max_time, log_times=times)\n",
        "\n",
        "# reset simulation\n",
        "drug_bind_sim.reset()\n",
        "\n",
        "# add drug with 1500nM concentration\n",
        "drug_bind_sim.set_constant('ikr.D', 1500)\n",
        "\n",
        "# run simulation with a drug and save output\n",
        "drug_bind_log_2 = drug_bind_sim.run(max_time, log_times=times)\n"
      ],
      "metadata": {
        "id": "l-GGZ_uMkyIG"
      },
      "execution_count": null,
      "outputs": []
    },
    {
      "cell_type": "markdown",
      "source": [
        "### Step 12: Plot current before and after drug added\n",
        "We can calculate the channel current before and after the drug is added and plot a comparison. Note the reduction in current in the case where the drug is present."
      ],
      "metadata": {
        "id": "LT2rboCTky-L"
      }
    },
    {
      "cell_type": "code",
      "source": [
        "# get simulated Open state probability without drug\n",
        "drug_bind_O_1 = np.array(drug_bind_log_1['ikr.O'])\n",
        "drug_bind_I_1 = g * drug_bind_O_1 * (Vm - E)\n",
        "\n",
        "# get simulated Open state probability with drug\n",
        "drug_bind_O_2 = np.array(drug_bind_log_2['ikr.O'])\n",
        "drug_bind_I_2 = g * drug_bind_O_2 * (Vm - E)\n",
        "\n",
        "# plot\n",
        "fig, ax = plt.subplots(figsize=(7,3))\n",
        "ax.plot(times, drug_bind_I_1, linewidth=2, label = 'No Drug')\n",
        "ax.plot(times, drug_bind_I_2, linewidth=2, label = 'Drug')\n",
        "ax.set_xlim(0, max_time)\n",
        "ax.set_title('Current')\n",
        "ax.set_ylabel('Current (pA)')\n",
        "ax.set_xlabel('Time (ms)')\n",
        "plt.legend()\n",
        "plt.show()"
      ],
      "metadata": {
        "id": "fzU6HYH1k53M"
      },
      "execution_count": null,
      "outputs": []
    },
    {
      "cell_type": "markdown",
      "source": [
        "# Extra Tasks\n",
        "✏️ Return to Step 2 and make changes to the voltage protocol. Observe how this affects the simulated Open proportion and current for each model.\n",
        "\n",
        "✏️ Adjust the model parameters in the `.mmt` files of each model and observe how they influence the model dynamics.\n",
        "\n",
        "✏️ Add an additional ID (Inactive Drug-bound) state and I-ID drug binding dynamics to the `drug_bind_MM.mmt` model file and observe the effects."
      ],
      "metadata": {
        "id": "TcRbDJnP1sYu"
      }
    }
  ]
}