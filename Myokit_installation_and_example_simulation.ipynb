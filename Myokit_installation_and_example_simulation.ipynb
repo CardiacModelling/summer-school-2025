{
  "nbformat": 4,
  "nbformat_minor": 0,
  "metadata": {
    "colab": {
      "provenance": [],
      "include_colab_link": true
    },
    "kernelspec": {
      "name": "python3",
      "display_name": "Python 3"
    },
    "language_info": {
      "name": "python"
    }
  },
  "cells": [
    {
      "cell_type": "markdown",
      "metadata": {
        "id": "view-in-github",
        "colab_type": "text"
      },
      "source": [
        "<a href=\"https://colab.research.google.com/github/CardiacModelling/summer-school-2025/blob/main/Myokit_installation_and_example_simulation.ipynb\" target=\"_parent\"><img src=\"https://colab.research.google.com/assets/colab-badge.svg\" alt=\"Open In Colab\"/></a>"
      ]
    },
    {
      "cell_type": "markdown",
      "source": [
        "# Myokit installation and example simulation\n",
        "\n",
        "In this notebook, we\n",
        "- install [Myokit](https://myokit.org) in Google Colab\n",
        "- run an example simulation\n",
        "- explain the example, with links to the [docs](https://myokit.readthedocs.io/en/stable/)\n",
        "\n",
        "To install Myokit, we\n",
        "1. Use `apt-get` to install the required [Sundials](https://computing.llnl.gov/projects/sundials) library\n",
        "2. Use `pip` to install the package `myokit`"
      ],
      "metadata": {
        "id": "hLR62R94cJVv"
      }
    },
    {
      "cell_type": "code",
      "execution_count": 1,
      "metadata": {
        "colab": {
          "base_uri": "https://localhost:8080/"
        },
        "id": "z4UWRR3HWa1a",
        "outputId": "e86a718a-b0a9-48a0-fb5a-2e6379002245",
        "collapsed": true
      },
      "outputs": [
        {
          "output_type": "stream",
          "name": "stdout",
          "text": [
            "Reading package lists... Done\n",
            "Building dependency tree... Done\n",
            "Reading state information... Done\n",
            "libsundials-dev is already the newest version (5.8.0+dfsg-1build1).\n",
            "0 upgraded, 0 newly installed, 0 to remove and 38 not upgraded.\n",
            "Requirement already satisfied: myokit in /usr/local/lib/python3.12/dist-packages (1.38.0)\n",
            "Requirement already satisfied: configparser in /usr/local/lib/python3.12/dist-packages (from myokit) (7.2.0)\n",
            "Requirement already satisfied: lxml in /usr/local/lib/python3.12/dist-packages (from myokit) (5.4.0)\n",
            "Requirement already satisfied: matplotlib>=2.2 in /usr/local/lib/python3.12/dist-packages (from myokit) (3.10.0)\n",
            "Requirement already satisfied: numpy in /usr/local/lib/python3.12/dist-packages (from myokit) (2.0.2)\n",
            "Requirement already satisfied: setuptools in /usr/local/lib/python3.12/dist-packages (from myokit) (75.2.0)\n",
            "Requirement already satisfied: contourpy>=1.0.1 in /usr/local/lib/python3.12/dist-packages (from matplotlib>=2.2->myokit) (1.3.3)\n",
            "Requirement already satisfied: cycler>=0.10 in /usr/local/lib/python3.12/dist-packages (from matplotlib>=2.2->myokit) (0.12.1)\n",
            "Requirement already satisfied: fonttools>=4.22.0 in /usr/local/lib/python3.12/dist-packages (from matplotlib>=2.2->myokit) (4.60.0)\n",
            "Requirement already satisfied: kiwisolver>=1.3.1 in /usr/local/lib/python3.12/dist-packages (from matplotlib>=2.2->myokit) (1.4.9)\n",
            "Requirement already satisfied: packaging>=20.0 in /usr/local/lib/python3.12/dist-packages (from matplotlib>=2.2->myokit) (25.0)\n",
            "Requirement already satisfied: pillow>=8 in /usr/local/lib/python3.12/dist-packages (from matplotlib>=2.2->myokit) (11.3.0)\n",
            "Requirement already satisfied: pyparsing>=2.3.1 in /usr/local/lib/python3.12/dist-packages (from matplotlib>=2.2->myokit) (3.2.4)\n",
            "Requirement already satisfied: python-dateutil>=2.7 in /usr/local/lib/python3.12/dist-packages (from matplotlib>=2.2->myokit) (2.9.0.post0)\n",
            "Requirement already satisfied: six>=1.5 in /usr/local/lib/python3.12/dist-packages (from python-dateutil>=2.7->matplotlib>=2.2->myokit) (1.17.0)\n"
          ]
        }
      ],
      "source": [
        "!apt-get install libsundials-dev\n",
        "!pip install myokit"
      ]
    },
    {
      "cell_type": "markdown",
      "source": [
        "Next, we import `myokit` module and make our first call:"
      ],
      "metadata": {
        "id": "wpSMjIc_eAeN"
      }
    },
    {
      "cell_type": "code",
      "source": [
        "import myokit\n",
        "print(myokit.version())"
      ],
      "metadata": {
        "colab": {
          "base_uri": "https://localhost:8080/"
        },
        "id": "MgogcskkWv6C",
        "outputId": "8986d180-7291-4ba3-837d-5f755b5e9b1a"
      },
      "execution_count": 2,
      "outputs": [
        {
          "output_type": "stream",
          "name": "stdout",
          "text": [
            "\n",
            " Myokit 1.38.0 |/\\\n",
            "_______________|  |_____\n"
          ]
        }
      ]
    },
    {
      "cell_type": "markdown",
      "source": [
        "That works! For the real test, we'll load the built-in example model and run a 1000ms simulation:"
      ],
      "metadata": {
        "id": "kTXSg2CLeRw-"
      }
    },
    {
      "cell_type": "code",
      "source": [
        "m, p, x = myokit.load('example')\n",
        "s = myokit.Simulation(m, p)\n",
        "d = s.run(1000)"
      ],
      "metadata": {
        "id": "UhgUgAgrX0g4",
        "colab": {
          "base_uri": "https://localhost:8080/"
        },
        "outputId": "d44e89e0-756a-4e86-dc12-427809c89c59"
      },
      "execution_count": 3,
      "outputs": [
        {
          "output_type": "stream",
          "name": "stderr",
          "text": [
            "INFO:root:running build_ext\n",
            "INFO:root:building 'myokit_sim_1_1487644342713519436' extension\n",
            "INFO:root:creating build/temp.linux-x86_64-cpython-312/tmp/tmp2n_k2g3vmyokit\n",
            "INFO:root:x86_64-linux-gnu-gcc -fno-strict-overflow -Wsign-compare -DNDEBUG -g -O2 -Wall -g -fstack-protector-strong -Wformat -Werror=format-security -g -fwrapv -O2 -fPIC -I/usr/local/include -I/usr/local/lib/python3.12/dist-packages/myokit/_sim -I/usr/local/lib/python3.12/dist-packages/myokit/_sim -I/usr/include/python3.12 -c /tmp/tmp2n_k2g3vmyokit/source.c -o build/temp.linux-x86_64-cpython-312/tmp/tmp2n_k2g3vmyokit/source.o\n",
            "INFO:root:creating build/lib.linux-x86_64-cpython-312\n",
            "INFO:root:x86_64-linux-gnu-gcc -shared -Wl,-O1 -Wl,-Bsymbolic-functions -Wl,-Bsymbolic-functions -g -fwrapv -O2 build/temp.linux-x86_64-cpython-312/tmp/tmp2n_k2g3vmyokit/source.o -L/usr/local/lib -L/usr/local/lib64 -L/usr/lib/x86_64-linux-gnu -Wl,--enable-new-dtags,-rpath,/usr/local/lib -Wl,--enable-new-dtags,-rpath,/usr/local/lib64 -lsundials_cvodes -lsundials_nvecserial -lm -o build/lib.linux-x86_64-cpython-312/myokit_sim_1_1487644342713519436.cpython-312-x86_64-linux-gnu.so\n",
            "INFO:root:copying build/lib.linux-x86_64-cpython-312/myokit_sim_1_1487644342713519436.cpython-312-x86_64-linux-gnu.so -> \n"
          ]
        }
      ]
    },
    {
      "cell_type": "markdown",
      "source": [
        "To visualise the results, we'll use [matplotlib](https://matplotlib.org/):"
      ],
      "metadata": {
        "id": "uoJj1zlfehSJ"
      }
    },
    {
      "cell_type": "code",
      "source": [
        "import matplotlib.pyplot as plt\n",
        "plt.plot(d.time(), d['membrane.V'])\n",
        "plt.show()"
      ],
      "metadata": {
        "colab": {
          "base_uri": "https://localhost:8080/",
          "height": 430
        },
        "id": "0JAxMiTHerdE",
        "outputId": "e62b81eb-9581-4530-aeb4-6a5b0733daba"
      },
      "execution_count": 4,
      "outputs": [
        {
          "output_type": "display_data",
          "data": {
            "text/plain": [
              "<Figure size 640x480 with 1 Axes>"
            ],
            "image/png": "[encoded data removed]"
          },
          "metadata": {}
        }
      ]
    },
    {
      "cell_type": "markdown",
      "source": [
        "## Tweak: get rid of the logging info\n",
        "\n",
        "When we created the simulation, it generated a lot of debug output:\n",
        "```\n",
        "INFO:root:running build_ext\n",
        "INFO:root:building 'myokit_sim_1_5499951616817020280' extension\n",
        "INFO:root:creating build/temp.linux-x86_64-cpython-312/tmp/tmpxss9t8mumyokit\n",
        "INFO:root:x86_64-linux-gnu-gcc -fno-strict-overflow -Wsign-compare -DNDEBUG -g -O2 -Wall -g -fstack-protector-strong -Wformat -Werror=format-security -g -fwrapv -O2 -fPIC -I/usr/local/include -I/usr/local/lib/python3.12/dist-packages/myokit/_sim -I/usr/local/lib/python3.12/dist-packages/myokit/_sim -I/usr/include/python3.12 -c /tmp/tmpxss9t8mumyokit/source.c -o build/temp.linux-x86_64-cpython-312/tmp/tmpxss9t8mumyokit/source.o\n",
        "INFO:root:creating build/lib.linux-x86_64-cpython-312\n",
        "INFO:root:x86_64-linux-gnu-gcc -shared -Wl,-O1 -Wl,-Bsymbolic-functions -Wl,-Bsymbolic-functions -g -fwrapv -O2 build/temp.linux-x86_64-cpython-312/tmp/tmpxss9t8mumyokit/source.o -L/usr/local/lib -L/usr/local/lib64 -L/usr/lib/x86_64-linux-gnu -Wl,--enable-new-dtags,-rpath,/usr/local/lib -Wl,--enable-new-dtags,-rpath,/usr/local/lib64 -lsundials_cvodes -lsundials_nvecserial -lm -o build/lib.linux-x86_64-cpython-312/myokit_sim_1_5499951616817020280.cpython-312-x86_64-linux-gnu.so\n",
        "INFO:root:copying build/lib.linux-x86_64-cpython-312/myokit_sim_1_5499951616817020280.cpython-312-x86_64-linux-gnu.so ->\n",
        "```\n",
        "This doesn't really help us much, and can look a bit daunting.\n",
        "We can get rid of these lines with:"
      ],
      "metadata": {
        "id": "JAOu3NF1e1Hu"
      }
    },
    {
      "cell_type": "code",
      "source": [
        "import logging\n",
        "logging.disable(logging.INFO)"
      ],
      "metadata": {
        "id": "t4KydVRXgZgJ"
      },
      "execution_count": 5,
      "outputs": []
    },
    {
      "cell_type": "markdown",
      "source": [
        "Now we can run without debug output:"
      ],
      "metadata": {
        "id": "3pXRs6wgguYD"
      }
    },
    {
      "cell_type": "code",
      "source": [
        "m, p, x = myokit.load('example')\n",
        "s = myokit.Simulation(m, p)\n",
        "d = s.run(1000)\n",
        "\n",
        "fig = plt.figure()\n",
        "ax = fig.add_subplot()\n",
        "ax.plot(d.time(), d['membrane.V'])\n",
        "plt.show()"
      ],
      "metadata": {
        "colab": {
          "base_uri": "https://localhost:8080/",
          "height": 430
        },
        "outputId": "7407e1c2-04a2-4309-aa25-795ac4bc129b",
        "id": "nZXFAC9mgXz6"
      },
      "execution_count": 6,
      "outputs": [
        {
          "output_type": "display_data",
          "data": {
            "text/plain": [
              "<Figure size 640x480 with 1 Axes>"
            ],
            "image/png": "[encoded data removed]"
          },
          "metadata": {}
        }
      ]
    },
    {
      "cell_type": "markdown",
      "source": [
        "## The same example, line by line\n",
        "\n",
        "If you'd like a bit more insight into what we just did, we'll now run through the same example code more slowly, explaining each line."
      ],
      "metadata": {
        "id": "sIoPM6tkibiC"
      }
    },
    {
      "cell_type": "code",
      "source": [
        "m, p, x = myokit.load('example')"
      ],
      "metadata": {
        "id": "bhj1FmrmjpV0"
      },
      "execution_count": 7,
      "outputs": []
    },
    {
      "cell_type": "markdown",
      "source": [
        "First, we loaded a [Model](https://myokit.readthedocs.io/en/stable/api_core/Model.html), a [Pacing protocol](https://myokit.readthedocs.io/en/stable/api_simulations/Protocol.html), and a script.\n",
        "\n",
        "Usually, we'd load these from an `.mmt` file, for example\n",
        "```\n",
        "m, p, x = myokit.load('my-model.mmt')\n",
        "```\n",
        "but here we used the built-in `example` file instead."
      ],
      "metadata": {
        "id": "00Av2nfkjEJW"
      }
    },
    {
      "cell_type": "markdown",
      "source": [
        "The **model** contains all the equations that make up the cell or channel model, along with its initial conditions.\n",
        "\n",
        "A selection of example models is hosted [here](https://github.com/myokit/models).\n",
        "To get a feel for what's inside a model, try the [1977 model by Beeler & Reuter](https://github.com/myokit/models/blob/main/c/beeler-1977.mmt).\n",
        "Then, if you're feeling brave, check out a [modern model](https://github.com/myokit/models/blob/main/c/tomek-2020.mmt)."
      ],
      "metadata": {
        "id": "IjyTxo93rw8u"
      }
    },
    {
      "cell_type": "markdown",
      "source": [
        "A **protocol** is used to specify an external input to a model.\n",
        "For action potential models, this is usually a periodic stimulus current.\n",
        "For ion channel models, this is typically a voltage-clamping protocol.\n",
        "\n",
        "We can inspect the protocol we loaded above with"
      ],
      "metadata": {
        "id": "xvcF3cW_rwg8"
      }
    },
    {
      "cell_type": "code",
      "source": [
        "print(p.code())"
      ],
      "metadata": {
        "colab": {
          "base_uri": "https://localhost:8080/"
        },
        "id": "CEbpRZH6eaej",
        "outputId": "20568c9b-5cb3-47b0-ecf9-1e5513b286db"
      },
      "execution_count": 8,
      "outputs": [
        {
          "output_type": "stream",
          "name": "stdout",
          "text": [
            "[[protocol]]\n",
            "# Level  Start    Length   Period   Multiplier\n",
            "1.0      50.0     0.5      1000.0   0\n"
          ]
        }
      ]
    },
    {
      "cell_type": "markdown",
      "source": [
        "This specifies a stimulus of size `1`, starting at 50 time units - let's say milliseconds, lasting 0.5ms, and repeating indefinitely every 1000ms.\n",
        "To cap the number of repeats, we can set the \"multiplier\" to a positive number."
      ],
      "metadata": {
        "id": "pLcMB1MEttuG"
      }
    },
    {
      "cell_type": "markdown",
      "source": [
        "The **script** part of an mmt file can be used to bundle an example simulation with a model.\n",
        "We won't be using this here."
      ],
      "metadata": {
        "id": "DNYZ--kSuEKk"
      }
    },
    {
      "cell_type": "markdown",
      "source": [
        "Next, we create a [Simulation](https://myokit.readthedocs.io/en/stable/api_simulations/Simulation.html) that uses the loaded model and protocol:"
      ],
      "metadata": {
        "id": "eUabYqbwucII"
      }
    },
    {
      "cell_type": "code",
      "source": [
        "s = myokit.Simulation(m, p)"
      ],
      "metadata": {
        "id": "JmrZUJMNuTWA"
      },
      "execution_count": 9,
      "outputs": []
    },
    {
      "cell_type": "markdown",
      "source": [
        "This step compiles the `mmt` code, which can take a bit longer than the other lines, but should complete within a second or so.\n",
        "When performance matters, for example when fitting a model or running sensitivity analyses, it's best to avoid creating new simulations and re-use existing ones instead."
      ],
      "metadata": {
        "id": "pjVJmBErumza"
      }
    },
    {
      "cell_type": "markdown",
      "source": [
        "Finally, we [run](https://myokit.readthedocs.io/en/stable/api_simulations/Simulation.html#myokit.Simulation.run) the simulation for a 1000ms, and receive the results in a [Data log](https://myokit.readthedocs.io/en/stable/api_simulations/DataLog.html).\n",
        "This is a Python [dict](https://docs.python.org/3/tutorial/datastructures.html#dictionaries) with some added features."
      ],
      "metadata": {
        "id": "JnSN6xdavJHc"
      }
    },
    {
      "cell_type": "code",
      "source": [
        "d = s.run(1000)"
      ],
      "metadata": {
        "id": "3tOVe5yveahV"
      },
      "execution_count": 10,
      "outputs": []
    },
    {
      "cell_type": "markdown",
      "source": [
        "we can see what's inside the log by printing its `keys`:"
      ],
      "metadata": {
        "id": "6J_HcVmtwF1v"
      }
    },
    {
      "cell_type": "code",
      "source": [
        "print(d.keys())"
      ],
      "metadata": {
        "colab": {
          "base_uri": "https://localhost:8080/"
        },
        "id": "I-zl4JMZwGtc",
        "outputId": "9def4e5e-fa88-47fc-a3d2-695f3ff20912"
      },
      "execution_count": 11,
      "outputs": [
        {
          "output_type": "stream",
          "name": "stdout",
          "text": [
            "odict_keys(['membrane.V', 'ina.m', 'ina.h', 'ina.j', 'ica.d', 'ica.f', 'ik.x', 'ica.Ca_i', 'engine.time', 'engine.pace', 'membrane.i_ion', 'membrane.i_stim', 'ik.x.alpha', 'ik.x.beta', 'ik.xi', 'ik.IK', 'ina.a', 'ina.m.alpha', 'ina.m.beta', 'ina.h.alpha', 'ina.h.beta', 'ina.j.alpha', 'ina.j.beta', 'ina.INa', 'ikp.Kp', 'ikp.IKp', 'ica.E', 'ica.d.alpha', 'ica.d.beta', 'ica.f.alpha', 'ica.f.beta', 'ica.ICa', 'ik1.g', 'ik1.g.alpha', 'ik1.g.beta', 'ik1.IK1', 'ib.Ib', 'dot(membrane.V)', 'dot(ina.m)', 'dot(ina.h)', 'dot(ina.j)', 'dot(ica.d)', 'dot(ica.f)', 'dot(ik.x)', 'dot(ica.Ca_i)'])\n"
          ]
        }
      ]
    },
    {
      "cell_type": "markdown",
      "source": [
        "where each key points to an array of logged points:"
      ],
      "metadata": {
        "id": "XfN43P_HwGBA"
      }
    },
    {
      "cell_type": "code",
      "source": [
        "print(d['membrane.V'])"
      ],
      "metadata": {
        "colab": {
          "base_uri": "https://localhost:8080/"
        },
        "id": "wCfaMXhOw_qQ",
        "outputId": "6841642c-9f7f-4b58-d4fe-dbd07d9a266f"
      },
      "execution_count": 12,
      "outputs": [
        {
          "output_type": "stream",
          "name": "stdout",
          "text": [
            "array('d', [-84.5286, -84.52867875927753, -84.52875747206286, -84.52889830287556, -84.52903899958703, -84.52934620168524, -84.52965269682878, -84.52995848276298, -84.53026355956199, -84.5305679281051, -84.53151701549044, -84.53319195653482, -84.53724665462335, -84.54438988763195, -84.55695871486328, -84.56823766919862, -84.57819596342964, -84.59614404774788, -84.6147675415201, -84.62967022361447, -84.63040383063341, -84.62368534657955, -84.61395191084453, -84.60353731397227, -84.59348817508253, -84.58422881101623, -84.57591798080348, -84.56466908953637, -84.55579756530301, -84.54896677582389, -84.54153787743962, -84.5367157099501, -84.53356281396475, -84.53153567191465, -84.53028621416999, -84.5295394510622, -84.5289110877429, -84.47668531725967, -84.42446984894295, -84.31263384989386, -84.20083929181723, -84.01609844351545, -83.83148042217479, -83.64698436126938, -83.3453459632593, -83.04402208344743, -82.50663213202536, -81.97016974966672, -81.4345877186072, -80.89983948637763, -80.36587946828726, -79.50747845734104, -78.65082581921968, -77.02389389605432, -75.40154730474876, -73.78274612091045, -72.16655754240952, -70.552153393758, -68.93879919703588, -67.3258372961772, -65.71265521998549, -64.09863530256548, -62.48307325965388, -60.86504892051005, -59.24322404865158, -57.615530743576706, -54.731483179720335, -51.78255187935779, -48.69646863858368, -45.327764962397815, -44.238888192714334, -44.191082106880515, -44.14122185017889, -43.99372776044947, -43.83156586773837, -43.65293404985279, -43.342101708166915, -42.98633116497424, -42.58256039671202, -42.12743568300482, -41.00680830017501, -39.611713653176054, -37.894380256831354, -35.78617994507531, -33.203466028023236, -30.050797479849262, -26.230608767703036, -21.66760379663975, -18.758853802576652, -15.61667809193378, -12.265023377773161, -8.742258385065053, -5.100376192100808, -1.4002746782189184, 0.929821428952931, 3.241150239525608, 5.517981508665082, 7.746399290526806, 9.914411998713675, 13.549854817746846, 16.93040987943487, 20.034081601835215, 22.854767725580224, 25.398468874802404, 27.679507984345552, 29.716695737177265, 31.530936812476703, 33.14363099141471, 35.282575042164005, 37.06122532965308, 38.54072314507453, 39.77332421546614, 40.80165303588122, 41.660939093566334, 42.37927427978955, 42.979878816042564, 43.481265817011504, 43.89897606147757, 44.24549164628097, 44.53148716147826, 44.76559168358999, 44.955311371376034, 45.10673613883329, 45.225246115655175, 45.31521284881904, 45.380555511290474, 45.42445794596327, 45.44981473330615, 45.45902355270421, 45.454160041014745, 45.41477221382683, 45.343538664194725, 45.24764777428116, 45.13251279802538, 44.95656812885725, 44.76133171920935, 44.55220881545336, 44.333261843762635, 44.10751700626642, 43.877169020949886, 43.6437905130234, 43.284285994712725, 42.92310912161553, 42.56190928238925, 42.201774165602295, 41.620966374845416, 41.23733265331773, 40.85684033297802, 40.479444901820116, 40.10516872137798, 39.7341374214617, 39.366423823348036, 39.001994070773186, 38.640798430156956, 38.28283928901812, 37.62234307788172, 36.973012872895445, 36.33503956850861, 35.70839387148539, 35.09267238512038, 34.48756926081556, 33.8931204422915, 33.30941323846848, 32.7363173846104, 31.686078653808526, 30.95241759405496, 30.23699741022, 29.539877822844545, 28.860998743936605, 28.199934961289195, 27.180860364893753, 26.205545061246408, 25.272891279715026, 24.382138498521392, 22.657811540929963, 21.102484194232158, 19.707503990469093, 18.463549150529484, 17.36076133655235, 16.38896066921932, 15.538018942577867, 14.463504651869476, 13.607858479495201, 12.939651352462564, 12.430164969496577, 12.054107028414084, 11.789457323516947, 11.617026220078783, 11.520173507908742, 11.48465865716034, 11.498437371567988, 11.551358033471205, 11.634851743983518, 11.741700347020982, 11.865868791420562, 12.002347074608346, 12.146990871914273, 12.296382618079134, 12.447719538635571, 12.685712452297572, 12.916147705140613, 13.13423779767248, 13.33677848411572, 13.521774777216528, 13.68812977763866, 13.835390679273027, 13.963564249975137, 14.072991402024096, 14.164252970143858, 14.282934865833603, 14.352413914054672, 14.377770281842848, 14.364028322124932, 14.315899117181988, 14.16937866494408, 13.955841111401478, 13.690055527608173, 13.384265258273437, 13.047998968440483, 12.688677659061273, 12.312005130411174, 11.922377166172133, 11.310776742149217, 10.685327682705648, 10.051672958967039, 9.412894438387244, 8.770249368397675, 7.582814291102852, 6.383197387809245, 5.162803322566893, 3.909374752689331, 2.6120439599480823, 1.259189040613085, -0.16514610280174274, -0.9913463746497295, -1.8488647369297506, -2.740479614884039, -3.669461770457104, -4.639491495529966, -6.286962265345133, -8.060237789280825, -9.968426956180231, -12.014892551757963, -14.195284669464439, -16.49591327671884, -18.893843735629062, -21.362735521223428, -23.8882584932821, -26.497284043714163, -28.370767889977884, -30.362583399097208, -32.532456793829404, -34.00821715312066, -35.609289985664965, -37.36855344969464, -39.32991435496342, -39.490060286655456, -39.65176686636991, -39.9149671563021, -40.18241824565372, -40.45426368683577, -40.73065280154735, -41.01174102899353, -41.29768982330125, -41.58866707941131, -41.88484787719336, -42.186414848924535, -42.69779306658569, -43.22535660175664, -43.77006890845729, -44.33295863469279, -45.28858065928141, -46.30018316297919, -47.373350546959045, -48.51420945422512, -49.72939945111141, -51.02598250594049, -51.80827967768855, -52.621085859318036, -53.4657624348072, -54.34359222557475, -55.255731595297924, -56.20314487945111, -57.18651871810391, -58.206153874495996, -58.87255111146219, -59.5533339549655, -60.24817509683119, -60.9566063654385, -61.67799285295445, -62.41150964560717, -63.15611989158017, -63.910555900861354, -64.67330239143578, -65.44258460624962, -66.2163626238971, -66.99233719361044, -67.76795767638588, -68.54044922951412, -69.30685400174515, -70.0640826318728, -70.53458632457733, -70.99941228867421, -71.45777704264341, -71.90891670970805, -72.35209341274822, -72.78660336115594, -73.21178425251203, -73.62702250646993, -74.03175951756087, -74.42549721349941, -74.80780249923535, -75.1783104818634, -75.53672649945374, -75.88282684628757, -76.08768414922011, -76.28788314043028, -76.48341298382928, -76.67427057664649, -76.86046116393682, -77.04199835782786, -77.21890395438393, -77.43930273809649, -77.65219556225813, -77.8576794335087, -78.05586846857175, -78.4135523186307, -78.74629758204915, -79.2259308159823, -79.65070681308285, -80.02584991658897, -80.35663540533791, -80.64816018983801, -80.90518523172156, -81.13205179335743, -81.33266276255769, -81.51044533447859, -81.66839421226, -81.80911085812662, -81.93484226027418, -82.04752059183782, -82.14880218414957, -82.24010609994387, -82.3226474758439, -82.3974675208087, -82.46546042869126, -82.52739589950178, -82.62651419774114, -82.71100187541577, -82.78349938990685, -82.84604077616288, -82.90022903131887, -82.94736084541206, -82.98850489086647, -83.02455149020538, -83.05624713736098, -83.08422073103945, -83.1090044434789, -83.1310504398037, -83.1507442964686, -83.16841575164648, -83.18434744129247, -83.19878202215712, -83.21192811408157, -83.22396522221646, -83.2350479370578, -83.24530942405535, -83.25486446677193, -83.26381196978788, -83.27223720897115, -83.28021331697248, -83.28780415666948, -83.29506412573285, -83.30204000604432, -83.30877203348425, -83.31529486684218, -83.32163821793449, -83.3278276260594, -83.33388487060026, -83.33982866505987, -83.3456748560909, -83.35143697845011, -83.357126667871, -83.36275375270372, -83.36832639753412, -83.37385165413919, -83.37933528561378, -83.38478227540283, -83.39019680114514, -83.3955823363078, -83.40094166841831, -83.40627715427458, -83.41159069121282, -83.41688390061191, -83.42215800574003, -83.4274140936812, -83.43265288559452, -83.43787511945985, -83.4430811378137, -83.44827147790107, -83.45344628069509, -83.45860577919282, -83.46374990535979, -83.4688788436839, -83.4739925777109, -83.47909125878729, -83.48417470167455, -83.48924278475691, -83.49429542598088, -83.49933254494947, -83.50785689201659, -83.51633554412382, -83.52476791600054, -83.54970835443152, -83.57421694914584, -83.59828317433676, -83.64930823229507, -83.69813635209337, -83.74475481481387, -83.78918254183115, -83.83145957239951, -83.87163864261902, -83.90978037669302, -83.96819297637502, -84.0215927982853, -84.0703064649719, -84.13767545166607, -84.1956961124494, -84.2455030597383, -84.28812721631995, -84.32454495028931, -84.35561175768693, -84.37028502575447])\n"
          ]
        }
      ]
    },
    {
      "cell_type": "markdown",
      "source": [
        "Each key corresponds to a model variable, and consists of two parts: a component (e.g. `membrane`) and a variable name (e.g. `V`).\n",
        "\n",
        "In this model, the variable representing time is called `engine.time`, but we can also access it using the special `time()` method:"
      ],
      "metadata": {
        "id": "X9ZPaht9xHTj"
      }
    },
    {
      "cell_type": "code",
      "source": [
        "print(d['engine.time'])\n",
        "print(d.time())"
      ],
      "metadata": {
        "colab": {
          "base_uri": "https://localhost:8080/"
        },
        "id": "UfCS_d8Uxwm9",
        "outputId": "043fccd6-fac3-4fe7-baf5-4cff81cf60d1"
      },
      "execution_count": 13,
      "outputs": [
        {
          "output_type": "stream",
          "name": "stdout",
          "text": [
            "array('d', [0.0, 0.0013874057888985168, 0.0027748115777970336, 0.00525871768368645, 0.007742623789575866, 0.013175319161295787, 0.018608014533015707, 0.024040709904735627, 0.029473405276455547, 0.03490610064817547, 0.05199041141955123, 0.08253668875658508, 0.1589293992849367, 0.3019603292679316, 0.5716160614512774, 0.8412717936346232, 1.110927525817969, 1.7036366059678274, 2.5950552506677003, 4.103329865940804, 5.611604481213908, 7.119879096487011, 8.628153711760115, 10.136428327033219, 11.644702942306322, 13.152977557579426, 14.66125217285253, 17.07170722581282, 19.48216227877311, 21.8926173317334, 25.61118248341214, 29.32974763509088, 33.048312786769614, 36.76687793844835, 40.48544309012709, 44.20400824180583, 50.0, 50.000652950843886, 50.00130590168777, 50.00270479463265, 50.004103687577526, 50.006416601979794, 50.00872951638206, 50.01104243078433, 50.01482712938828, 50.01861182799223, 50.02537105370124, 50.032130279410254, 50.038889505119265, 50.045648730828276, 50.05240795653729, 50.063293733873884, 50.07417951121048, 50.09490711981317, 50.11563472841586, 50.136362337018554, 50.157089945621244, 50.177817554223935, 50.198545162826626, 50.21927277142932, 50.24000038003201, 50.2607279886347, 50.28145559723739, 50.30218320584008, 50.32291081444277, 50.34363842304546, 50.38003480788661, 50.41643119272776, 50.452827577568904, 50.48922396241005, 50.5, 50.501979779240635, 50.50395955848127, 50.509393942460314, 50.51482832643936, 50.5202627104184, 50.528646675104156, 50.53703063978991, 50.54541460447567, 50.55379856916142, 50.57109964289999, 50.58840071663855, 50.60570179037712, 50.62300286411568, 50.64030393785425, 50.657605011592814, 50.67490608533138, 50.692207159069945, 50.70195237906019, 50.71169759905043, 50.721442819040675, 50.73118803903092, 50.74093325902116, 50.750678479011405, 50.756811206523004, 50.7629439340346, 50.7690766615462, 50.7752093890578, 50.7813421165694, 50.79211951965304, 50.802896922736686, 50.81367432582033, 50.82445172890397, 50.83522913198762, 50.84600653507126, 50.856783938154905, 50.86756134123855, 50.87833874432219, 50.894958106584646, 50.9115774688471, 50.92819683110955, 50.944816193372006, 50.96143555563446, 50.97805491789691, 50.994674280159366, 51.01129364242182, 51.02791300468427, 51.044532366946726, 51.06115172920918, 51.07777109147163, 51.094390453734086, 51.11100981599654, 51.12762917825899, 51.144248540521446, 51.1608679027839, 51.17748726504635, 51.194106627308805, 51.21072598957126, 51.22734535183371, 51.243964714096165, 51.274233722412596, 51.30450273072903, 51.33477173904546, 51.36504074736189, 51.40532366942684, 51.445606591491796, 51.48588951355675, 51.5261724356217, 51.56645535768666, 51.60673827975161, 51.647021201816564, 51.70850322080118, 51.76998523978579, 51.8314672587704, 51.892949277755015, 51.9927607659148, 52.0593006258434, 52.125840485771995, 52.19238034570059, 52.25892020562919, 52.325460065557785, 52.39199992548638, 52.45853978541498, 52.525079645343574, 52.59161950527217, 52.71599941212658, 52.840379318980986, 52.964759225835394, 53.0891391326898, 53.21351903954421, 53.33789894639862, 53.462278853253025, 53.58665876010743, 53.71103866696184, 53.9451778531796, 54.113730949575874, 54.28228404597215, 54.45083714236842, 54.619390238764694, 54.78794333516097, 55.05709003322459, 55.32623673128821, 55.595383429351834, 55.864530127415456, 56.42490936817522, 56.98528860893499, 57.54566784969475, 58.10604709045452, 58.66642633121428, 59.22680557197405, 59.78718481273381, 60.63068714987003, 61.47418948700624, 62.31769182414246, 63.16119416127867, 64.00469649841489, 64.8481988355511, 65.69170117268732, 66.53520350982353, 67.37870584695975, 68.22220818409596, 69.06571052123218, 69.90921285836839, 70.7527151955046, 71.59621753264082, 72.43971986977704, 73.28322220691325, 74.12672454404947, 74.97022688118568, 76.30462341858595, 77.63901995598621, 78.97341649338648, 80.30781303078675, 81.64220956818701, 82.97660610558728, 84.31100264298755, 85.64539918038781, 86.97979571778808, 88.31419225518835, 90.66032955428489, 93.00646685338143, 95.35260415247797, 97.6987414515745, 100.04487875067105, 103.97858176269303, 107.912284774715, 111.84598778673698, 115.77969079875896, 119.71339381078094, 123.64709682280292, 127.5807998348249, 131.51450284684688, 137.50879949322464, 143.5030961396024, 149.49739278598017, 155.49168943235793, 161.4859860787357, 172.480394780357, 183.47480348197828, 194.46921218359958, 205.46362088522088, 216.45802958684217, 227.45243828846347, 238.44684699008477, 244.52845388545666, 250.61006078082855, 256.69166767620044, 262.77327457157236, 268.8548814669443, 278.5975548284944, 288.34022819004457, 298.0829015515947, 307.82557491314486, 317.568248274695, 327.31092163624515, 337.0535949977953, 346.79626835934545, 356.5389417208956, 366.28161508244574, 372.95433714573375, 379.62705920902175, 386.29978127230976, 390.4554472135651, 394.61111315482043, 398.76677909607577, 402.9224450373311, 403.240895013545, 403.5593449897589, 404.0710700182875, 404.5827950468161, 405.0945200753447, 405.6062451038733, 406.11797013240187, 406.62969516093045, 407.14142018945904, 407.6531452179876, 408.1648702465162, 409.01166715582696, 409.8584640651377, 410.70526097444844, 411.5520578837592, 412.927056857776, 414.3020558317928, 415.67705480580963, 417.05205377982645, 418.42705275384327, 419.8020517278601, 420.58979790898746, 421.37754409011484, 422.1652902712422, 422.9530364523696, 423.74078263349696, 424.52852881462434, 425.3162749957517, 426.1040211768791, 426.60433503502856, 427.104648893178, 427.6049627513275, 428.10527660947696, 428.6055904676264, 429.1059043257759, 429.60621818392536, 430.10653204207483, 430.6068459002243, 431.10715975837377, 431.60747361652324, 432.1077874746727, 432.6081013328222, 433.10841519097164, 433.6087290491211, 434.1090429072706, 434.42395474860245, 434.73886658993433, 435.0537784312662, 435.3686902725981, 435.68360211392996, 435.99851395526184, 436.3134257965937, 436.6283376379256, 436.9432494792575, 437.25816132058935, 437.57307316192123, 437.8879850032531, 438.202896844585, 438.51780868591686, 438.7097712455651, 438.9017338052133, 439.09369636486156, 439.2856589245098, 439.477621484158, 439.66958404380625, 439.8615466034545, 440.1080195892356, 440.3544925750167, 440.6009655607978, 440.8474385465789, 441.3167287815524, 441.78601901652587, 442.53055891447747, 443.27509881242906, 444.01963871038066, 444.76417860833226, 445.50871850628386, 446.25325840423545, 446.99779830218705, 447.74233820013865, 448.48687809809024, 449.23141799604184, 449.97595789399344, 450.72049779194504, 451.46503768989663, 452.20957758784823, 452.9541174857998, 453.6986573837514, 454.443197281703, 455.1877371796546, 455.9322770776062, 457.28624550442595, 458.6402139312457, 459.9941823580654, 461.34815078488515, 462.7021192117049, 464.0560876385246, 465.41005606534435, 466.7640244921641, 468.1179929189838, 469.47196134580355, 470.8259297726233, 472.179898199443, 473.53386662626275, 474.8878350530825, 476.2418034799022, 477.59577190672195, 478.9497403335417, 480.3037087603614, 481.65767718718115, 483.0116456140009, 484.3656140408206, 485.71958246764035, 487.0735508944601, 488.4275193212798, 489.78148774809955, 491.1354561749193, 492.489424601739, 493.84339302855875, 495.1973614553785, 496.5513298821982, 497.90529830901795, 499.2592667358377, 500.6132351626574, 501.96720358947715, 503.3211720162969, 504.6751404431166, 506.02910886993635, 507.3830772967561, 508.7370457235758, 510.09101415039555, 511.4449825772153, 512.7989510040351, 514.1529194308548, 515.5068878576745, 516.8608562844943, 518.214824711314, 519.5687931381337, 520.9227615649535, 522.2767299917732, 523.6306984185929, 524.9846668454127, 526.3386352722324, 527.6926036990521, 529.0465721258719, 530.4005405526916, 531.7545089795113, 533.1084774063311, 534.4624458331508, 535.8164142599705, 537.1703826867903, 538.52435111361, 539.8783195404297, 541.2322879672495, 543.5332697500775, 545.8342515329055, 548.1352333157334, 555.018010605612, 561.9007878954905, 568.783565185369, 583.826267077664, 598.8689689699592, 613.9116708622543, 628.9543727545494, 643.9970746468445, 659.0397765391396, 674.0824784314347, 698.7953485381623, 723.50821864489, 748.2210887516177, 786.7499526323876, 825.2788165131575, 863.8076803939274, 902.3365442746973, 940.8654081554672, 979.3942720362371, 1000.0])\n",
            "array('d', [0.0, 0.0013874057888985168, 0.0027748115777970336, 0.00525871768368645, 0.007742623789575866, 0.013175319161295787, 0.018608014533015707, 0.024040709904735627, 0.029473405276455547, 0.03490610064817547, 0.05199041141955123, 0.08253668875658508, 0.1589293992849367, 0.3019603292679316, 0.5716160614512774, 0.8412717936346232, 1.110927525817969, 1.7036366059678274, 2.5950552506677003, 4.103329865940804, 5.611604481213908, 7.119879096487011, 8.628153711760115, 10.136428327033219, 11.644702942306322, 13.152977557579426, 14.66125217285253, 17.07170722581282, 19.48216227877311, 21.8926173317334, 25.61118248341214, 29.32974763509088, 33.048312786769614, 36.76687793844835, 40.48544309012709, 44.20400824180583, 50.0, 50.000652950843886, 50.00130590168777, 50.00270479463265, 50.004103687577526, 50.006416601979794, 50.00872951638206, 50.01104243078433, 50.01482712938828, 50.01861182799223, 50.02537105370124, 50.032130279410254, 50.038889505119265, 50.045648730828276, 50.05240795653729, 50.063293733873884, 50.07417951121048, 50.09490711981317, 50.11563472841586, 50.136362337018554, 50.157089945621244, 50.177817554223935, 50.198545162826626, 50.21927277142932, 50.24000038003201, 50.2607279886347, 50.28145559723739, 50.30218320584008, 50.32291081444277, 50.34363842304546, 50.38003480788661, 50.41643119272776, 50.452827577568904, 50.48922396241005, 50.5, 50.501979779240635, 50.50395955848127, 50.509393942460314, 50.51482832643936, 50.5202627104184, 50.528646675104156, 50.53703063978991, 50.54541460447567, 50.55379856916142, 50.57109964289999, 50.58840071663855, 50.60570179037712, 50.62300286411568, 50.64030393785425, 50.657605011592814, 50.67490608533138, 50.692207159069945, 50.70195237906019, 50.71169759905043, 50.721442819040675, 50.73118803903092, 50.74093325902116, 50.750678479011405, 50.756811206523004, 50.7629439340346, 50.7690766615462, 50.7752093890578, 50.7813421165694, 50.79211951965304, 50.802896922736686, 50.81367432582033, 50.82445172890397, 50.83522913198762, 50.84600653507126, 50.856783938154905, 50.86756134123855, 50.87833874432219, 50.894958106584646, 50.9115774688471, 50.92819683110955, 50.944816193372006, 50.96143555563446, 50.97805491789691, 50.994674280159366, 51.01129364242182, 51.02791300468427, 51.044532366946726, 51.06115172920918, 51.07777109147163, 51.094390453734086, 51.11100981599654, 51.12762917825899, 51.144248540521446, 51.1608679027839, 51.17748726504635, 51.194106627308805, 51.21072598957126, 51.22734535183371, 51.243964714096165, 51.274233722412596, 51.30450273072903, 51.33477173904546, 51.36504074736189, 51.40532366942684, 51.445606591491796, 51.48588951355675, 51.5261724356217, 51.56645535768666, 51.60673827975161, 51.647021201816564, 51.70850322080118, 51.76998523978579, 51.8314672587704, 51.892949277755015, 51.9927607659148, 52.0593006258434, 52.125840485771995, 52.19238034570059, 52.25892020562919, 52.325460065557785, 52.39199992548638, 52.45853978541498, 52.525079645343574, 52.59161950527217, 52.71599941212658, 52.840379318980986, 52.964759225835394, 53.0891391326898, 53.21351903954421, 53.33789894639862, 53.462278853253025, 53.58665876010743, 53.71103866696184, 53.9451778531796, 54.113730949575874, 54.28228404597215, 54.45083714236842, 54.619390238764694, 54.78794333516097, 55.05709003322459, 55.32623673128821, 55.595383429351834, 55.864530127415456, 56.42490936817522, 56.98528860893499, 57.54566784969475, 58.10604709045452, 58.66642633121428, 59.22680557197405, 59.78718481273381, 60.63068714987003, 61.47418948700624, 62.31769182414246, 63.16119416127867, 64.00469649841489, 64.8481988355511, 65.69170117268732, 66.53520350982353, 67.37870584695975, 68.22220818409596, 69.06571052123218, 69.90921285836839, 70.7527151955046, 71.59621753264082, 72.43971986977704, 73.28322220691325, 74.12672454404947, 74.97022688118568, 76.30462341858595, 77.63901995598621, 78.97341649338648, 80.30781303078675, 81.64220956818701, 82.97660610558728, 84.31100264298755, 85.64539918038781, 86.97979571778808, 88.31419225518835, 90.66032955428489, 93.00646685338143, 95.35260415247797, 97.6987414515745, 100.04487875067105, 103.97858176269303, 107.912284774715, 111.84598778673698, 115.77969079875896, 119.71339381078094, 123.64709682280292, 127.5807998348249, 131.51450284684688, 137.50879949322464, 143.5030961396024, 149.49739278598017, 155.49168943235793, 161.4859860787357, 172.480394780357, 183.47480348197828, 194.46921218359958, 205.46362088522088, 216.45802958684217, 227.45243828846347, 238.44684699008477, 244.52845388545666, 250.61006078082855, 256.69166767620044, 262.77327457157236, 268.8548814669443, 278.5975548284944, 288.34022819004457, 298.0829015515947, 307.82557491314486, 317.568248274695, 327.31092163624515, 337.0535949977953, 346.79626835934545, 356.5389417208956, 366.28161508244574, 372.95433714573375, 379.62705920902175, 386.29978127230976, 390.4554472135651, 394.61111315482043, 398.76677909607577, 402.9224450373311, 403.240895013545, 403.5593449897589, 404.0710700182875, 404.5827950468161, 405.0945200753447, 405.6062451038733, 406.11797013240187, 406.62969516093045, 407.14142018945904, 407.6531452179876, 408.1648702465162, 409.01166715582696, 409.8584640651377, 410.70526097444844, 411.5520578837592, 412.927056857776, 414.3020558317928, 415.67705480580963, 417.05205377982645, 418.42705275384327, 419.8020517278601, 420.58979790898746, 421.37754409011484, 422.1652902712422, 422.9530364523696, 423.74078263349696, 424.52852881462434, 425.3162749957517, 426.1040211768791, 426.60433503502856, 427.104648893178, 427.6049627513275, 428.10527660947696, 428.6055904676264, 429.1059043257759, 429.60621818392536, 430.10653204207483, 430.6068459002243, 431.10715975837377, 431.60747361652324, 432.1077874746727, 432.6081013328222, 433.10841519097164, 433.6087290491211, 434.1090429072706, 434.42395474860245, 434.73886658993433, 435.0537784312662, 435.3686902725981, 435.68360211392996, 435.99851395526184, 436.3134257965937, 436.6283376379256, 436.9432494792575, 437.25816132058935, 437.57307316192123, 437.8879850032531, 438.202896844585, 438.51780868591686, 438.7097712455651, 438.9017338052133, 439.09369636486156, 439.2856589245098, 439.477621484158, 439.66958404380625, 439.8615466034545, 440.1080195892356, 440.3544925750167, 440.6009655607978, 440.8474385465789, 441.3167287815524, 441.78601901652587, 442.53055891447747, 443.27509881242906, 444.01963871038066, 444.76417860833226, 445.50871850628386, 446.25325840423545, 446.99779830218705, 447.74233820013865, 448.48687809809024, 449.23141799604184, 449.97595789399344, 450.72049779194504, 451.46503768989663, 452.20957758784823, 452.9541174857998, 453.6986573837514, 454.443197281703, 455.1877371796546, 455.9322770776062, 457.28624550442595, 458.6402139312457, 459.9941823580654, 461.34815078488515, 462.7021192117049, 464.0560876385246, 465.41005606534435, 466.7640244921641, 468.1179929189838, 469.47196134580355, 470.8259297726233, 472.179898199443, 473.53386662626275, 474.8878350530825, 476.2418034799022, 477.59577190672195, 478.9497403335417, 480.3037087603614, 481.65767718718115, 483.0116456140009, 484.3656140408206, 485.71958246764035, 487.0735508944601, 488.4275193212798, 489.78148774809955, 491.1354561749193, 492.489424601739, 493.84339302855875, 495.1973614553785, 496.5513298821982, 497.90529830901795, 499.2592667358377, 500.6132351626574, 501.96720358947715, 503.3211720162969, 504.6751404431166, 506.02910886993635, 507.3830772967561, 508.7370457235758, 510.09101415039555, 511.4449825772153, 512.7989510040351, 514.1529194308548, 515.5068878576745, 516.8608562844943, 518.214824711314, 519.5687931381337, 520.9227615649535, 522.2767299917732, 523.6306984185929, 524.9846668454127, 526.3386352722324, 527.6926036990521, 529.0465721258719, 530.4005405526916, 531.7545089795113, 533.1084774063311, 534.4624458331508, 535.8164142599705, 537.1703826867903, 538.52435111361, 539.8783195404297, 541.2322879672495, 543.5332697500775, 545.8342515329055, 548.1352333157334, 555.018010605612, 561.9007878954905, 568.783565185369, 583.826267077664, 598.8689689699592, 613.9116708622543, 628.9543727545494, 643.9970746468445, 659.0397765391396, 674.0824784314347, 698.7953485381623, 723.50821864489, 748.2210887516177, 786.7499526323876, 825.2788165131575, 863.8076803939274, 902.3365442746973, 940.8654081554672, 979.3942720362371, 1000.0])\n"
          ]
        }
      ]
    },
    {
      "cell_type": "markdown",
      "source": [
        "Finally, we use the obtained datalog to plot the results.\n",
        "\n",
        "In this example, we use Matplotlib - for which there are many tutorials online.\n",
        "In short, we create a figure, add an axes, plot the variable `membrane.V` against time on that axes, and then display the result:"
      ],
      "metadata": {
        "id": "6Xosf1s1x05W"
      }
    },
    {
      "cell_type": "code",
      "source": [
        "fig = plt.figure()\n",
        "ax = fig.add_subplot()\n",
        "ax.plot(d.time(), d['membrane.V'])\n",
        "plt.show()"
      ],
      "metadata": {
        "colab": {
          "base_uri": "https://localhost:8080/",
          "height": 430
        },
        "id": "xDAJEkY-eaj6",
        "outputId": "585517fd-de24-4b38-ffc7-bced5da61484"
      },
      "execution_count": 14,
      "outputs": [
        {
          "output_type": "display_data",
          "data": {
            "text/plain": [
              "<Figure size 640x480 with 1 Axes>"
            ],
            "image/png": "[encoded data removed]"
          },
          "metadata": {}
        }
      ]
    }
  ]
}