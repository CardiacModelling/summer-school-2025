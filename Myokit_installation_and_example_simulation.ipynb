{
  "nbformat": 4,
  "nbformat_minor": 0,
  "metadata": {
    "colab": {
      "provenance": [],
      "include_colab_link": true
    },
    "kernelspec": {
      "name": "python3",
      "display_name": "Python 3"
    },
    "language_info": {
      "name": "python"
    }
  },
  "cells": [
    {
      "cell_type": "markdown",
      "metadata": {
        "id": "view-in-github",
        "colab_type": "text"
      },
      "source": [
        "<a href=\"https://colab.research.google.com/github/CardiacModelling/summer-school-2025/blob/main/Myokit_installation_and_example_simulation.ipynb\" target=\"_parent\"><img src=\"https://colab.research.google.com/assets/colab-badge.svg\" alt=\"Open In Colab\"/></a>"
      ]
    },
    {
      "cell_type": "markdown",
      "source": [
        "# Myokit installation and example simulation\n",
        "\n",
        "In this notebook, we\n",
        "- install [Myokit](https://myokit.org) in Google Colab\n",
        "- run an example simulation\n",
        "- explain the example, with links to the [docs](https://myokit.readthedocs.io/en/stable/)\n",
        "\n",
        "To install Myokit, we\n",
        "1. Use `apt-get` to install the required [Sundials](https://computing.llnl.gov/projects/sundials) library\n",
        "2. Use `pip` to install the package `myokit`"
      ],
      "metadata": {
        "id": "hLR62R94cJVv"
      }
    },
    {
      "cell_type": "code",
      "execution_count": 1,
      "metadata": {
        "colab": {
          "base_uri": "https://localhost:8080/"
        },
        "id": "z4UWRR3HWa1a",
        "outputId": "fc97ebb7-05a7-4d01-ec95-749346cb0cab",
        "collapsed": true
      },
      "outputs": [
        {
          "output_type": "stream",
          "name": "stdout",
          "text": [
            "Reading package lists... Done\n",
            "Building dependency tree... Done\n",
            "Reading state information... Done\n",
            "libsundials-dev is already the newest version (5.8.0+dfsg-1build1).\n",
            "0 upgraded, 0 newly installed, 0 to remove and 38 not upgraded.\n",
            "Requirement already satisfied: myokit in /usr/local/lib/python3.12/dist-packages (1.38.0)\n",
            "Requirement already satisfied: configparser in /usr/local/lib/python3.12/dist-packages (from myokit) (7.2.0)\n",
            "Requirement already satisfied: lxml in /usr/local/lib/python3.12/dist-packages (from myokit) (5.4.0)\n",
            "Requirement already satisfied: matplotlib>=2.2 in /usr/local/lib/python3.12/dist-packages (from myokit) (3.10.0)\n",
            "Requirement already satisfied: numpy in /usr/local/lib/python3.12/dist-packages (from myokit) (2.0.2)\n",
            "Requirement already satisfied: setuptools in /usr/local/lib/python3.12/dist-packages (from myokit) (75.2.0)\n",
            "Requirement already satisfied: contourpy>=1.0.1 in /usr/local/lib/python3.12/dist-packages (from matplotlib>=2.2->myokit) (1.3.3)\n",
            "Requirement already satisfied: cycler>=0.10 in /usr/local/lib/python3.12/dist-packages (from matplotlib>=2.2->myokit) (0.12.1)\n",
            "Requirement already satisfied: fonttools>=4.22.0 in /usr/local/lib/python3.12/dist-packages (from matplotlib>=2.2->myokit) (4.60.0)\n",
            "Requirement already satisfied: kiwisolver>=1.3.1 in /usr/local/lib/python3.12/dist-packages (from matplotlib>=2.2->myokit) (1.4.9)\n",
            "Requirement already satisfied: packaging>=20.0 in /usr/local/lib/python3.12/dist-packages (from matplotlib>=2.2->myokit) (25.0)\n",
            "Requirement already satisfied: pillow>=8 in /usr/local/lib/python3.12/dist-packages (from matplotlib>=2.2->myokit) (11.3.0)\n",
            "Requirement already satisfied: pyparsing>=2.3.1 in /usr/local/lib/python3.12/dist-packages (from matplotlib>=2.2->myokit) (3.2.4)\n",
            "Requirement already satisfied: python-dateutil>=2.7 in /usr/local/lib/python3.12/dist-packages (from matplotlib>=2.2->myokit) (2.9.0.post0)\n",
            "Requirement already satisfied: six>=1.5 in /usr/local/lib/python3.12/dist-packages (from python-dateutil>=2.7->matplotlib>=2.2->myokit) (1.17.0)\n"
          ]
        }
      ],
      "source": [
        "!apt-get install libsundials-dev\n",
        "!pip install myokit"
      ]
    },
    {
      "cell_type": "markdown",
      "source": [
        "Next, we import `myokit` module and make our first call:"
      ],
      "metadata": {
        "id": "wpSMjIc_eAeN"
      }
    },
    {
      "cell_type": "code",
      "source": [
        "import myokit\n",
        "print(myokit.version())"
      ],
      "metadata": {
        "colab": {
          "base_uri": "https://localhost:8080/"
        },
        "id": "MgogcskkWv6C",
        "outputId": "c2d584c9-fc6c-445c-85f3-5a24b07ab5ca"
      },
      "execution_count": 2,
      "outputs": [
        {
          "output_type": "stream",
          "name": "stdout",
          "text": [
            "\n",
            " Myokit 1.38.0 |/\\\n",
            "_______________|  |_____\n"
          ]
        }
      ]
    },
    {
      "cell_type": "markdown",
      "source": [
        "That works! For the real test, we'll load the built-in example model and run a 1000ms simulation:"
      ],
      "metadata": {
        "id": "kTXSg2CLeRw-"
      }
    },
    {
      "cell_type": "code",
      "source": [
        "m, p, _ = myokit.load('example')\n",
        "s = myokit.Simulation(m, p)\n",
        "d = s.run(1000)"
      ],
      "metadata": {
        "id": "UhgUgAgrX0g4",
        "colab": {
          "base_uri": "https://localhost:8080/"
        },
        "outputId": "10750697-cd79-4635-e331-d6ed2d96c58e"
      },
      "execution_count": 3,
      "outputs": [
        {
          "output_type": "stream",
          "name": "stderr",
          "text": [
            "INFO:root:running build_ext\n",
            "INFO:root:building 'myokit_sim_1_4750590111166654822' extension\n",
            "INFO:root:creating build/temp.linux-x86_64-cpython-312/tmp/tmpkcuf6i69myokit\n",
            "INFO:root:x86_64-linux-gnu-gcc -fno-strict-overflow -Wsign-compare -DNDEBUG -g -O2 -Wall -g -fstack-protector-strong -Wformat -Werror=format-security -g -fwrapv -O2 -fPIC -I/usr/local/include -I/usr/local/lib/python3.12/dist-packages/myokit/_sim -I/usr/local/lib/python3.12/dist-packages/myokit/_sim -I/usr/include/python3.12 -c /tmp/tmpkcuf6i69myokit/source.c -o build/temp.linux-x86_64-cpython-312/tmp/tmpkcuf6i69myokit/source.o\n",
            "INFO:root:creating build/lib.linux-x86_64-cpython-312\n",
            "INFO:root:x86_64-linux-gnu-gcc -shared -Wl,-O1 -Wl,-Bsymbolic-functions -Wl,-Bsymbolic-functions -g -fwrapv -O2 build/temp.linux-x86_64-cpython-312/tmp/tmpkcuf6i69myokit/source.o -L/usr/local/lib -L/usr/local/lib64 -L/usr/lib/x86_64-linux-gnu -Wl,--enable-new-dtags,-rpath,/usr/local/lib -Wl,--enable-new-dtags,-rpath,/usr/local/lib64 -lsundials_cvodes -lsundials_nvecserial -lm -o build/lib.linux-x86_64-cpython-312/myokit_sim_1_4750590111166654822.cpython-312-x86_64-linux-gnu.so\n",
            "INFO:root:copying build/lib.linux-x86_64-cpython-312/myokit_sim_1_4750590111166654822.cpython-312-x86_64-linux-gnu.so -> \n"
          ]
        }
      ]
    },
    {
      "cell_type": "markdown",
      "source": [
        "To visualise the results, we'll use [matplotlib](https://matplotlib.org/):"
      ],
      "metadata": {
        "id": "uoJj1zlfehSJ"
      }
    },
    {
      "cell_type": "code",
      "source": [
        "import matplotlib.pyplot as plt\n",
        "plt.plot(d.time(), d['membrane.V'])\n",
        "plt.show()"
      ],
      "metadata": {
        "colab": {
          "base_uri": "https://localhost:8080/",
          "height": 430
        },
        "id": "0JAxMiTHerdE",
        "outputId": "3b87a19f-dc8f-4a31-ab82-94a073cf1eb0"
      },
      "execution_count": 4,
      "outputs": [
        {
          "output_type": "display_data",
          "data": {
            "text/plain": [
              "<Figure size 640x480 with 1 Axes>"
            ],
            "image/png": "[encoded data removed]"
          },
          "metadata": {}
        }
      ]
    },
    {
      "cell_type": "markdown",
      "source": [
        "## Tweak: get rid of the logging info\n",
        "\n",
        "When we created the simulation, it generated a lot of debug output:\n",
        "```\n",
        "INFO:root:running build_ext\n",
        "INFO:root:building 'myokit_sim_1_5499951616817020280' extension\n",
        "INFO:root:creating build/temp.linux-x86_64-cpython-312/tmp/tmpxss9t8mumyokit\n",
        "INFO:root:x86_64-linux-gnu-gcc -fno-strict-overflow -Wsign-compare -DNDEBUG -g -O2 -Wall -g -fstack-protector-strong -Wformat -Werror=format-security -g -fwrapv -O2 -fPIC -I/usr/local/include -I/usr/local/lib/python3.12/dist-packages/myokit/_sim -I/usr/local/lib/python3.12/dist-packages/myokit/_sim -I/usr/include/python3.12 -c /tmp/tmpxss9t8mumyokit/source.c -o build/temp.linux-x86_64-cpython-312/tmp/tmpxss9t8mumyokit/source.o\n",
        "INFO:root:creating build/lib.linux-x86_64-cpython-312\n",
        "INFO:root:x86_64-linux-gnu-gcc -shared -Wl,-O1 -Wl,-Bsymbolic-functions -Wl,-Bsymbolic-functions -g -fwrapv -O2 build/temp.linux-x86_64-cpython-312/tmp/tmpxss9t8mumyokit/source.o -L/usr/local/lib -L/usr/local/lib64 -L/usr/lib/x86_64-linux-gnu -Wl,--enable-new-dtags,-rpath,/usr/local/lib -Wl,--enable-new-dtags,-rpath,/usr/local/lib64 -lsundials_cvodes -lsundials_nvecserial -lm -o build/lib.linux-x86_64-cpython-312/myokit_sim_1_5499951616817020280.cpython-312-x86_64-linux-gnu.so\n",
        "INFO:root:copying build/lib.linux-x86_64-cpython-312/myokit_sim_1_5499951616817020280.cpython-312-x86_64-linux-gnu.so ->\n",
        "```\n",
        "This doesn't really help us much, and can look a bit daunting.\n",
        "We can get rid of them with:"
      ],
      "metadata": {
        "id": "JAOu3NF1e1Hu"
      }
    },
    {
      "cell_type": "code",
      "source": [
        "import logging\n",
        "logging.disable(logging.INFO)"
      ],
      "metadata": {
        "id": "t4KydVRXgZgJ"
      },
      "execution_count": 5,
      "outputs": []
    },
    {
      "cell_type": "markdown",
      "source": [
        "Now we can run the same example without seeing the debug output:"
      ],
      "metadata": {
        "id": "3pXRs6wgguYD"
      }
    },
    {
      "cell_type": "code",
      "source": [
        "m, p, x = myokit.load('example')\n",
        "s = myokit.Simulation(m, p)\n",
        "d = s.run(1000)\n",
        "\n",
        "plt.plot(d.time(), d['membrane.V'])\n",
        "plt.show()"
      ],
      "metadata": {
        "colab": {
          "base_uri": "https://localhost:8080/",
          "height": 430
        },
        "outputId": "22836084-8e9f-4324-e088-5c1374bea3f2",
        "id": "nZXFAC9mgXz6"
      },
      "execution_count": 6,
      "outputs": [
        {
          "output_type": "display_data",
          "data": {
            "text/plain": [
              "<Figure size 640x480 with 1 Axes>"
            ],
            "image/png": "[encoded data removed]"
          },
          "metadata": {}
        }
      ]
    },
    {
      "cell_type": "markdown",
      "source": [
        "## The same example, line by line\n",
        "\n",
        "If you'd like a bit more insight into what we just did, we'll now run through the same example code more slowly, explaining each line."
      ],
      "metadata": {
        "id": "sIoPM6tkibiC"
      }
    },
    {
      "cell_type": "code",
      "source": [
        "m, p, x = myokit.load('example')"
      ],
      "metadata": {
        "id": "bhj1FmrmjpV0"
      },
      "execution_count": null,
      "outputs": []
    },
    {
      "cell_type": "markdown",
      "source": [
        "First, we loaded a [Model](https://myokit.readthedocs.io/en/stable/api_core/Model.html), a [Pacing protocol](https://myokit.readthedocs.io/en/stable/api_simulations/Protocol.html), and a script.\n",
        "\n",
        "Instead of using this built-in example, we can download a model from\n",
        "\n",
        "\n",
        "Usually, we'd load these from an `.mmt` file, for example\n",
        "```\n",
        "m, p, x = myokit.load('my-model.mmt')\n",
        "```\n",
        "but here we used a built-in file called `example` instead.\n",
        "\n",
        "The model contains all the equations that make up the cell or channel model. To"
      ],
      "metadata": {
        "id": "00Av2nfkjEJW"
      }
    },
    {
      "cell_type": "code",
      "source": [],
      "metadata": {
        "id": "gXStaE-xegsN"
      },
      "execution_count": 6,
      "outputs": []
    },
    {
      "cell_type": "code",
      "source": [],
      "metadata": {
        "id": "CEbpRZH6eaej"
      },
      "execution_count": 6,
      "outputs": []
    },
    {
      "cell_type": "code",
      "source": [],
      "metadata": {
        "id": "3tOVe5yveahV"
      },
      "execution_count": 6,
      "outputs": []
    },
    {
      "cell_type": "code",
      "source": [
        "!wget https://raw.github.com/myokit/models/main/c/tentusscher-2006.mmt\n"
      ],
      "metadata": {
        "colab": {
          "base_uri": "https://localhost:8080/"
        },
        "id": "xDAJEkY-eaj6",
        "outputId": "f43ea9eb-6de6-41f5-c5e8-64df7c92e054"
      },
      "execution_count": 11,
      "outputs": [
        {
          "output_type": "stream",
          "name": "stdout",
          "text": [
            "--2025-10-03 10:24:11--  https://raw.github.com/myokit/models/main/c/tentusscher-2006.mmt\n",
            "Resolving raw.github.com (raw.github.com)... 185.199.111.133, 185.199.109.133, 185.199.108.133, ...\n",
            "Connecting to raw.github.com (raw.github.com)|185.199.111.133|:443... connected.\n",
            "HTTP request sent, awaiting response... 301 Moved Permanently\n",
            "Location: https://raw.githubusercontent.com/myokit/models/main/c/tentusscher-2006.mmt [following]\n",
            "--2025-10-03 10:24:11--  https://raw.githubusercontent.com/myokit/models/main/c/tentusscher-2006.mmt\n",
            "Resolving raw.githubusercontent.com (raw.githubusercontent.com)... 185.199.108.133, 185.199.109.133, 185.199.110.133, ...\n",
            "Connecting to raw.githubusercontent.com (raw.githubusercontent.com)|185.199.108.133|:443... connected.\n",
            "HTTP request sent, awaiting response... 200 OK\n",
            "Length: 13941 (14K) [text/plain]\n",
            "Saving to: ‘tentusscher-2006.mmt’\n",
            "\n",
            "tentusscher-2006.mm 100%[===================>]  13.61K  --.-KB/s    in 0.001s  \n",
            "\n",
            "2025-10-03 10:24:11 (10.0 MB/s) - ‘tentusscher-2006.mmt’ saved [13941/13941]\n",
            "\n"
          ]
        }
      ]
    },
    {
      "cell_type": "code",
      "source": [
        "m, p, x = myokit.load('tentusscher-2006.mmt')"
      ],
      "metadata": {
        "id": "6rrp0REjlIT4"
      },
      "execution_count": 12,
      "outputs": []
    }
  ]
}